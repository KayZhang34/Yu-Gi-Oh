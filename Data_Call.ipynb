{
 "cells": [
  {
   "cell_type": "code",
   "execution_count": 4,
   "metadata": {
    "scrolled": true
   },
   "outputs": [],
   "source": [
    "import numpy as np\n",
    "import json\n",
    "import requests\n",
    "import pandas as pd\n",
    "\n",
    "url_cards = \"https://db.ygoprodeck.com/api/v7/cardinfo.php\"\n",
    "url_sets = \"https://db.ygoprodeck.com/api/v7/cardsets.php\"\n",
    "\n",
    "header = {\n",
    "  \"User-Agent\": \"Mozilla/5.0 (X11; Linux x86_64) AppleWebKit/537.36 (KHTML, like Gecko) Chrome/50.0.2661.75 Safari/537.36\",\n",
    "  \"X-Requested-With\": \"XMLHttpRequest\"\n",
    "}\n",
    "\n",
    "cards = requests.get(url_cards)\n",
    "sets = requests.get(url_sets)\n",
    "\n",
    "df_cards = pd.DataFrame.from_dict(cards.json()['data'])\n",
    "df_sets = pd.DataFrame.from_dict(sets.json())"
   ]
  },
  {
   "cell_type": "code",
   "execution_count": 5,
   "metadata": {},
   "outputs": [],
   "source": [
    "#remove sets with missing date\n",
    "df_sets = df_sets[df_sets['tcg_date'].notna()]\n",
    "\n",
    "#removing cards in the database without an associated set\n",
    "df_tcg_cards=df_cards[df_cards['card_sets'].notna()]\n",
    "\n",
    "#aligning set names from the card pool\n",
    "for i in df_tcg_cards['card_sets']:\n",
    "    if i[0]['set_name'] == '2020 Tin of Lost Memories':\n",
    "        i[0].update({'set_name' : '2020 Tin of Lost Memories Mega Pack'})"
   ]
  },
  {
   "cell_type": "code",
   "execution_count": 6,
   "metadata": {},
   "outputs": [
    {
     "name": "stderr",
     "output_type": "stream",
     "text": [
      "<ipython-input-6-27305f167636>:23: SettingWithCopyWarning: \n",
      "A value is trying to be set on a copy of a slice from a DataFrame.\n",
      "Try using .loc[row_indexer,col_indexer] = value instead\n",
      "\n",
      "See the caveats in the documentation: https://pandas.pydata.org/pandas-docs/stable/user_guide/indexing.html#returning-a-view-versus-a-copy\n",
      "  df_tcg_cards['release_date'] = dates\n"
     ]
    }
   ],
   "source": [
    "from datetime import datetime\n",
    "\n",
    "#creating a date column to eventually add to the cards table\n",
    "dates = []\n",
    "\n",
    "for row in df_tcg_cards['card_sets']:\n",
    "    dates_holder =[]\n",
    "    for i in range(len(row)):\n",
    "        \n",
    "        #below conditional excludes set names that exist in the cards table, but are not in the sets table\n",
    "        if len(df_sets.loc[df_sets['set_name']==row[i]['set_name'],'tcg_date']) > 0:\n",
    "            date_str = df_sets.loc[df_sets['set_name']==row[i]['set_name'],'tcg_date'].item()\n",
    "        \n",
    "        #convert dates from sets table into datetime\n",
    "        date = datetime.strptime(date_str, '%Y-%m-%d')\n",
    "        dates_holder.append(date)\n",
    "        \n",
    "    #filter to only select the date of the cards' debuts\n",
    "    date_earliest = min(dates_holder)\n",
    "    dates.append(date_earliest)\n",
    "\n",
    "#Adding dates to the cards table in a new column \"release_date\" \n",
    "df_tcg_cards['release_date'] = dates"
   ]
  },
  {
   "cell_type": "code",
   "execution_count": 7,
   "metadata": {},
   "outputs": [
    {
     "data": {
      "text/html": [
       "<div>\n",
       "<style scoped>\n",
       "    .dataframe tbody tr th:only-of-type {\n",
       "        vertical-align: middle;\n",
       "    }\n",
       "\n",
       "    .dataframe tbody tr th {\n",
       "        vertical-align: top;\n",
       "    }\n",
       "\n",
       "    .dataframe thead th {\n",
       "        text-align: right;\n",
       "    }\n",
       "</style>\n",
       "<table border=\"1\" class=\"dataframe\">\n",
       "  <thead>\n",
       "    <tr style=\"text-align: right;\">\n",
       "      <th></th>\n",
       "      <th>id</th>\n",
       "      <th>name</th>\n",
       "      <th>type</th>\n",
       "      <th>desc</th>\n",
       "      <th>race</th>\n",
       "      <th>archetype</th>\n",
       "      <th>card_sets</th>\n",
       "      <th>card_images</th>\n",
       "      <th>card_prices</th>\n",
       "      <th>atk</th>\n",
       "      <th>def</th>\n",
       "      <th>level</th>\n",
       "      <th>attribute</th>\n",
       "      <th>banlist_info</th>\n",
       "      <th>scale</th>\n",
       "      <th>linkval</th>\n",
       "      <th>linkmarkers</th>\n",
       "      <th>release_date</th>\n",
       "    </tr>\n",
       "  </thead>\n",
       "  <tbody>\n",
       "    <tr>\n",
       "      <th>0</th>\n",
       "      <td>34541863</td>\n",
       "      <td>\"A\" Cell Breeding Device</td>\n",
       "      <td>Spell Card</td>\n",
       "      <td>During each of your Standby Phases, put 1 A-Co...</td>\n",
       "      <td>Continuous</td>\n",
       "      <td>Alien</td>\n",
       "      <td>[{'set_name': 'Force of the Breaker', 'set_cod...</td>\n",
       "      <td>[{'id': 34541863, 'image_url': 'https://storag...</td>\n",
       "      <td>[{'cardmarket_price': '0.13', 'tcgplayer_price...</td>\n",
       "      <td>NaN</td>\n",
       "      <td>NaN</td>\n",
       "      <td>NaN</td>\n",
       "      <td>NaN</td>\n",
       "      <td>NaN</td>\n",
       "      <td>NaN</td>\n",
       "      <td>NaN</td>\n",
       "      <td>NaN</td>\n",
       "      <td>2007-05-16</td>\n",
       "    </tr>\n",
       "    <tr>\n",
       "      <th>1</th>\n",
       "      <td>64163367</td>\n",
       "      <td>\"A\" Cell Incubator</td>\n",
       "      <td>Spell Card</td>\n",
       "      <td>Each time an A-Counter(s) is removed from play...</td>\n",
       "      <td>Continuous</td>\n",
       "      <td>Alien</td>\n",
       "      <td>[{'set_name': 'Gladiator's Assault', 'set_code...</td>\n",
       "      <td>[{'id': 64163367, 'image_url': 'https://storag...</td>\n",
       "      <td>[{'cardmarket_price': '0.11', 'tcgplayer_price...</td>\n",
       "      <td>NaN</td>\n",
       "      <td>NaN</td>\n",
       "      <td>NaN</td>\n",
       "      <td>NaN</td>\n",
       "      <td>NaN</td>\n",
       "      <td>NaN</td>\n",
       "      <td>NaN</td>\n",
       "      <td>NaN</td>\n",
       "      <td>2007-11-14</td>\n",
       "    </tr>\n",
       "    <tr>\n",
       "      <th>2</th>\n",
       "      <td>91231901</td>\n",
       "      <td>\"A\" Cell Recombination Device</td>\n",
       "      <td>Spell Card</td>\n",
       "      <td>Target 1 face-up monster on the field; send 1 ...</td>\n",
       "      <td>Quick-Play</td>\n",
       "      <td>Alien</td>\n",
       "      <td>[{'set_name': 'Invasion: Vengeance', 'set_code...</td>\n",
       "      <td>[{'id': 91231901, 'image_url': 'https://storag...</td>\n",
       "      <td>[{'cardmarket_price': '0.12', 'tcgplayer_price...</td>\n",
       "      <td>NaN</td>\n",
       "      <td>NaN</td>\n",
       "      <td>NaN</td>\n",
       "      <td>NaN</td>\n",
       "      <td>NaN</td>\n",
       "      <td>NaN</td>\n",
       "      <td>NaN</td>\n",
       "      <td>NaN</td>\n",
       "      <td>2016-11-03</td>\n",
       "    </tr>\n",
       "    <tr>\n",
       "      <th>3</th>\n",
       "      <td>73262676</td>\n",
       "      <td>\"A\" Cell Scatter Burst</td>\n",
       "      <td>Spell Card</td>\n",
       "      <td>Select 1 face-up \"Alien\" monster you control. ...</td>\n",
       "      <td>Quick-Play</td>\n",
       "      <td>Alien</td>\n",
       "      <td>[{'set_name': 'Strike of Neos', 'set_code': 'S...</td>\n",
       "      <td>[{'id': 73262676, 'image_url': 'https://storag...</td>\n",
       "      <td>[{'cardmarket_price': '0.09', 'tcgplayer_price...</td>\n",
       "      <td>NaN</td>\n",
       "      <td>NaN</td>\n",
       "      <td>NaN</td>\n",
       "      <td>NaN</td>\n",
       "      <td>NaN</td>\n",
       "      <td>NaN</td>\n",
       "      <td>NaN</td>\n",
       "      <td>NaN</td>\n",
       "      <td>2007-02-28</td>\n",
       "    </tr>\n",
       "    <tr>\n",
       "      <th>4</th>\n",
       "      <td>37478723</td>\n",
       "      <td>\"Infernoble Arms - Durendal\"</td>\n",
       "      <td>Spell Card</td>\n",
       "      <td>While this card is equipped to a monster: You ...</td>\n",
       "      <td>Equip</td>\n",
       "      <td>Noble Knight</td>\n",
       "      <td>[{'set_name': 'Rise of the Duelist', 'set_code...</td>\n",
       "      <td>[{'id': 37478723, 'image_url': 'https://storag...</td>\n",
       "      <td>[{'cardmarket_price': '7.36', 'tcgplayer_price...</td>\n",
       "      <td>NaN</td>\n",
       "      <td>NaN</td>\n",
       "      <td>NaN</td>\n",
       "      <td>NaN</td>\n",
       "      <td>NaN</td>\n",
       "      <td>NaN</td>\n",
       "      <td>NaN</td>\n",
       "      <td>NaN</td>\n",
       "      <td>2020-08-06</td>\n",
       "    </tr>\n",
       "    <tr>\n",
       "      <th>...</th>\n",
       "      <td>...</td>\n",
       "      <td>...</td>\n",
       "      <td>...</td>\n",
       "      <td>...</td>\n",
       "      <td>...</td>\n",
       "      <td>...</td>\n",
       "      <td>...</td>\n",
       "      <td>...</td>\n",
       "      <td>...</td>\n",
       "      <td>...</td>\n",
       "      <td>...</td>\n",
       "      <td>...</td>\n",
       "      <td>...</td>\n",
       "      <td>...</td>\n",
       "      <td>...</td>\n",
       "      <td>...</td>\n",
       "      <td>...</td>\n",
       "      <td>...</td>\n",
       "    </tr>\n",
       "    <tr>\n",
       "      <th>11476</th>\n",
       "      <td>87008374</td>\n",
       "      <td>ZW - Phoenix Bow</td>\n",
       "      <td>Effect Monster</td>\n",
       "      <td>You can target 1 face-up \"Number C39: Utopia R...</td>\n",
       "      <td>Winged Beast</td>\n",
       "      <td>Utopia</td>\n",
       "      <td>[{'set_name': 'Return of the Duelist', 'set_co...</td>\n",
       "      <td>[{'id': 87008374, 'image_url': 'https://storag...</td>\n",
       "      <td>[{'cardmarket_price': '0.13', 'tcgplayer_price...</td>\n",
       "      <td>1100.0</td>\n",
       "      <td>0.0</td>\n",
       "      <td>3.0</td>\n",
       "      <td>FIRE</td>\n",
       "      <td>NaN</td>\n",
       "      <td>NaN</td>\n",
       "      <td>NaN</td>\n",
       "      <td>NaN</td>\n",
       "      <td>2012-08-24</td>\n",
       "    </tr>\n",
       "    <tr>\n",
       "      <th>11477</th>\n",
       "      <td>2648201</td>\n",
       "      <td>ZW - Sleipnir Mail</td>\n",
       "      <td>Effect Monster</td>\n",
       "      <td>You can target 1 \"Utopia\" monster you control;...</td>\n",
       "      <td>Beast</td>\n",
       "      <td>Utopia</td>\n",
       "      <td>[{'set_name': 'Primal Origin', 'set_code': 'PR...</td>\n",
       "      <td>[{'id': 2648201, 'image_url': 'https://storage...</td>\n",
       "      <td>[{'cardmarket_price': '0.11', 'tcgplayer_price...</td>\n",
       "      <td>1000.0</td>\n",
       "      <td>1000.0</td>\n",
       "      <td>4.0</td>\n",
       "      <td>LIGHT</td>\n",
       "      <td>NaN</td>\n",
       "      <td>NaN</td>\n",
       "      <td>NaN</td>\n",
       "      <td>NaN</td>\n",
       "      <td>2014-05-16</td>\n",
       "    </tr>\n",
       "    <tr>\n",
       "      <th>11479</th>\n",
       "      <td>81471108</td>\n",
       "      <td>ZW - Tornado Bringer</td>\n",
       "      <td>Effect Monster</td>\n",
       "      <td>You can target 1 \"Utopia\" monster you control;...</td>\n",
       "      <td>Dragon</td>\n",
       "      <td>Utopia</td>\n",
       "      <td>[{'set_name': 'Cosmo Blazer', 'set_code': 'CBL...</td>\n",
       "      <td>[{'id': 81471108, 'image_url': 'https://storag...</td>\n",
       "      <td>[{'cardmarket_price': '0.06', 'tcgplayer_price...</td>\n",
       "      <td>1300.0</td>\n",
       "      <td>1800.0</td>\n",
       "      <td>5.0</td>\n",
       "      <td>WIND</td>\n",
       "      <td>NaN</td>\n",
       "      <td>NaN</td>\n",
       "      <td>NaN</td>\n",
       "      <td>NaN</td>\n",
       "      <td>2013-01-25</td>\n",
       "    </tr>\n",
       "    <tr>\n",
       "      <th>11480</th>\n",
       "      <td>18865703</td>\n",
       "      <td>ZW - Ultimate Shield</td>\n",
       "      <td>Effect Monster</td>\n",
       "      <td>When this card is Normal or Special Summoned: ...</td>\n",
       "      <td>Aqua</td>\n",
       "      <td>Utopia</td>\n",
       "      <td>[{'set_name': 'Cosmo Blazer', 'set_code': 'CBL...</td>\n",
       "      <td>[{'id': 18865703, 'image_url': 'https://storag...</td>\n",
       "      <td>[{'cardmarket_price': '0.03', 'tcgplayer_price...</td>\n",
       "      <td>0.0</td>\n",
       "      <td>2000.0</td>\n",
       "      <td>4.0</td>\n",
       "      <td>EARTH</td>\n",
       "      <td>NaN</td>\n",
       "      <td>NaN</td>\n",
       "      <td>NaN</td>\n",
       "      <td>NaN</td>\n",
       "      <td>2013-01-25</td>\n",
       "    </tr>\n",
       "    <tr>\n",
       "      <th>11481</th>\n",
       "      <td>76080032</td>\n",
       "      <td>ZW - Unicorn Spear</td>\n",
       "      <td>Effect Monster</td>\n",
       "      <td>You can target 1 \"Number C39: Utopia Ray\" you ...</td>\n",
       "      <td>Beast</td>\n",
       "      <td>Utopia</td>\n",
       "      <td>[{'set_name': 'Order of Chaos', 'set_code': 'O...</td>\n",
       "      <td>[{'id': 76080032, 'image_url': 'https://storag...</td>\n",
       "      <td>[{'cardmarket_price': '0.12', 'tcgplayer_price...</td>\n",
       "      <td>1900.0</td>\n",
       "      <td>0.0</td>\n",
       "      <td>4.0</td>\n",
       "      <td>LIGHT</td>\n",
       "      <td>NaN</td>\n",
       "      <td>NaN</td>\n",
       "      <td>NaN</td>\n",
       "      <td>NaN</td>\n",
       "      <td>2012-01-20</td>\n",
       "    </tr>\n",
       "  </tbody>\n",
       "</table>\n",
       "<p>10921 rows × 18 columns</p>\n",
       "</div>"
      ],
      "text/plain": [
       "             id                           name            type  \\\n",
       "0      34541863       \"A\" Cell Breeding Device      Spell Card   \n",
       "1      64163367             \"A\" Cell Incubator      Spell Card   \n",
       "2      91231901  \"A\" Cell Recombination Device      Spell Card   \n",
       "3      73262676         \"A\" Cell Scatter Burst      Spell Card   \n",
       "4      37478723   \"Infernoble Arms - Durendal\"      Spell Card   \n",
       "...         ...                            ...             ...   \n",
       "11476  87008374               ZW - Phoenix Bow  Effect Monster   \n",
       "11477   2648201             ZW - Sleipnir Mail  Effect Monster   \n",
       "11479  81471108           ZW - Tornado Bringer  Effect Monster   \n",
       "11480  18865703           ZW - Ultimate Shield  Effect Monster   \n",
       "11481  76080032             ZW - Unicorn Spear  Effect Monster   \n",
       "\n",
       "                                                    desc          race  \\\n",
       "0      During each of your Standby Phases, put 1 A-Co...    Continuous   \n",
       "1      Each time an A-Counter(s) is removed from play...    Continuous   \n",
       "2      Target 1 face-up monster on the field; send 1 ...    Quick-Play   \n",
       "3      Select 1 face-up \"Alien\" monster you control. ...    Quick-Play   \n",
       "4      While this card is equipped to a monster: You ...         Equip   \n",
       "...                                                  ...           ...   \n",
       "11476  You can target 1 face-up \"Number C39: Utopia R...  Winged Beast   \n",
       "11477  You can target 1 \"Utopia\" monster you control;...         Beast   \n",
       "11479  You can target 1 \"Utopia\" monster you control;...        Dragon   \n",
       "11480  When this card is Normal or Special Summoned: ...          Aqua   \n",
       "11481  You can target 1 \"Number C39: Utopia Ray\" you ...         Beast   \n",
       "\n",
       "          archetype                                          card_sets  \\\n",
       "0             Alien  [{'set_name': 'Force of the Breaker', 'set_cod...   \n",
       "1             Alien  [{'set_name': 'Gladiator's Assault', 'set_code...   \n",
       "2             Alien  [{'set_name': 'Invasion: Vengeance', 'set_code...   \n",
       "3             Alien  [{'set_name': 'Strike of Neos', 'set_code': 'S...   \n",
       "4      Noble Knight  [{'set_name': 'Rise of the Duelist', 'set_code...   \n",
       "...             ...                                                ...   \n",
       "11476        Utopia  [{'set_name': 'Return of the Duelist', 'set_co...   \n",
       "11477        Utopia  [{'set_name': 'Primal Origin', 'set_code': 'PR...   \n",
       "11479        Utopia  [{'set_name': 'Cosmo Blazer', 'set_code': 'CBL...   \n",
       "11480        Utopia  [{'set_name': 'Cosmo Blazer', 'set_code': 'CBL...   \n",
       "11481        Utopia  [{'set_name': 'Order of Chaos', 'set_code': 'O...   \n",
       "\n",
       "                                             card_images  \\\n",
       "0      [{'id': 34541863, 'image_url': 'https://storag...   \n",
       "1      [{'id': 64163367, 'image_url': 'https://storag...   \n",
       "2      [{'id': 91231901, 'image_url': 'https://storag...   \n",
       "3      [{'id': 73262676, 'image_url': 'https://storag...   \n",
       "4      [{'id': 37478723, 'image_url': 'https://storag...   \n",
       "...                                                  ...   \n",
       "11476  [{'id': 87008374, 'image_url': 'https://storag...   \n",
       "11477  [{'id': 2648201, 'image_url': 'https://storage...   \n",
       "11479  [{'id': 81471108, 'image_url': 'https://storag...   \n",
       "11480  [{'id': 18865703, 'image_url': 'https://storag...   \n",
       "11481  [{'id': 76080032, 'image_url': 'https://storag...   \n",
       "\n",
       "                                             card_prices     atk     def  \\\n",
       "0      [{'cardmarket_price': '0.13', 'tcgplayer_price...     NaN     NaN   \n",
       "1      [{'cardmarket_price': '0.11', 'tcgplayer_price...     NaN     NaN   \n",
       "2      [{'cardmarket_price': '0.12', 'tcgplayer_price...     NaN     NaN   \n",
       "3      [{'cardmarket_price': '0.09', 'tcgplayer_price...     NaN     NaN   \n",
       "4      [{'cardmarket_price': '7.36', 'tcgplayer_price...     NaN     NaN   \n",
       "...                                                  ...     ...     ...   \n",
       "11476  [{'cardmarket_price': '0.13', 'tcgplayer_price...  1100.0     0.0   \n",
       "11477  [{'cardmarket_price': '0.11', 'tcgplayer_price...  1000.0  1000.0   \n",
       "11479  [{'cardmarket_price': '0.06', 'tcgplayer_price...  1300.0  1800.0   \n",
       "11480  [{'cardmarket_price': '0.03', 'tcgplayer_price...     0.0  2000.0   \n",
       "11481  [{'cardmarket_price': '0.12', 'tcgplayer_price...  1900.0     0.0   \n",
       "\n",
       "       level attribute banlist_info  scale  linkval linkmarkers release_date  \n",
       "0        NaN       NaN          NaN    NaN      NaN         NaN   2007-05-16  \n",
       "1        NaN       NaN          NaN    NaN      NaN         NaN   2007-11-14  \n",
       "2        NaN       NaN          NaN    NaN      NaN         NaN   2016-11-03  \n",
       "3        NaN       NaN          NaN    NaN      NaN         NaN   2007-02-28  \n",
       "4        NaN       NaN          NaN    NaN      NaN         NaN   2020-08-06  \n",
       "...      ...       ...          ...    ...      ...         ...          ...  \n",
       "11476    3.0      FIRE          NaN    NaN      NaN         NaN   2012-08-24  \n",
       "11477    4.0     LIGHT          NaN    NaN      NaN         NaN   2014-05-16  \n",
       "11479    5.0      WIND          NaN    NaN      NaN         NaN   2013-01-25  \n",
       "11480    4.0     EARTH          NaN    NaN      NaN         NaN   2013-01-25  \n",
       "11481    4.0     LIGHT          NaN    NaN      NaN         NaN   2012-01-20  \n",
       "\n",
       "[10921 rows x 18 columns]"
      ]
     },
     "execution_count": 7,
     "metadata": {},
     "output_type": "execute_result"
    }
   ],
   "source": [
    "df_tcg_cards"
   ]
  },
  {
   "cell_type": "code",
   "execution_count": 21,
   "metadata": {},
   "outputs": [],
   "source": [
    "import plotly.express as px\n",
    "import plotly.graph_objects as go\n",
    "\n",
    "#Writing a funtion that returns a scatterplot with a trendline from a linear least squares regression\n",
    "def ScatterChart(df, indep_var, stat):\n",
    "    fig = px.scatter(df, x= indep_var, y= stat,\n",
    "        trendline=\"ols\",        \n",
    "        title=( str(indep_var)+ ' v. ' + str(stat))) #Create scatterplot w/ a linear trendline from the dataframe\n",
    "    return(fig) #Display Scatterplot"
   ]
  },
  {
   "cell_type": "code",
   "execution_count": 22,
   "metadata": {},
   "outputs": [
    {
     "name": "stdout",
     "output_type": "stream",
     "text": [
      "(209, 18)\n"
     ]
    },
    {
     "data": {
      "application/vnd.plotly.v1+json": {
       "config": {
        "plotlyServerURL": "https://plot.ly"
       },
       "data": [
        {
         "hovertemplate": "release_date=%{x}<br>atk=%{y}<extra></extra>",
         "legendgroup": "",
         "marker": {
          "color": "#636efa",
          "symbol": "circle"
         },
         "mode": "markers",
         "name": "",
         "orientation": "v",
         "showlegend": false,
         "type": "scatter",
         "x": [
          "2002-06-26T00:00:00",
          "2011-11-05T00:00:00",
          "2007-08-15T00:00:00",
          "2010-08-14T00:00:00",
          "2003-02-16T00:00:00",
          "2008-01-08T00:00:00",
          "2002-03-29T00:00:00",
          "2002-06-26T00:00:00",
          "2002-03-08T00:00:00",
          "2003-12-01T00:00:00",
          "2002-06-26T00:00:00",
          "2002-03-08T00:00:00",
          "2002-09-01T00:00:00",
          "2002-03-29T00:00:00",
          "2003-12-01T00:00:00",
          "2002-03-29T00:00:00",
          "2002-09-01T00:00:00",
          "2002-10-01T00:00:00",
          "2002-03-08T00:00:00",
          "2017-08-03T00:00:00",
          "2006-04-28T00:00:00",
          "2003-02-16T00:00:00",
          "2019-08-01T00:00:00",
          "2002-06-26T00:00:00",
          "2005-11-16T00:00:00",
          "2004-03-01T00:00:00",
          "2006-04-28T00:00:00",
          "2002-06-26T00:00:00",
          "2020-05-15T00:00:00",
          "2002-03-08T00:00:00",
          "2021-08-12T00:00:00",
          "2002-10-01T00:00:00",
          "2019-12-06T00:00:00",
          "2002-10-20T00:00:00",
          "2002-09-01T00:00:00",
          "2002-03-29T00:00:00",
          "2002-03-29T00:00:00",
          "2003-10-10T00:00:00",
          "2009-11-17T00:00:00",
          "2002-03-29T00:00:00",
          "2002-10-20T00:00:00",
          "2002-10-20T00:00:00",
          "2002-03-29T00:00:00",
          "2002-06-26T00:00:00",
          "2005-03-01T00:00:00",
          "2006-04-28T00:00:00",
          "2003-03-01T00:00:00",
          "2005-06-01T00:00:00",
          "2005-06-01T00:00:00",
          "2012-09-28T00:00:00",
          "2007-05-15T00:00:00",
          "2002-12-20T00:00:00",
          "2002-10-01T00:00:00",
          "2002-03-29T00:00:00",
          "2002-03-08T00:00:00",
          "2002-09-16T00:00:00",
          "2002-03-08T00:00:00",
          "2003-03-01T00:00:00",
          "2002-10-20T00:00:00",
          "2002-12-20T00:00:00",
          "2002-03-08T00:00:00",
          "2003-12-01T00:00:00",
          "2003-02-16T00:00:00",
          "2002-06-26T00:00:00",
          "2011-05-29T00:00:00",
          "2011-05-29T00:00:00",
          "2011-05-29T00:00:00",
          "2003-03-01T00:00:00",
          "2007-02-28T00:00:00",
          "2002-09-01T00:00:00",
          "2002-10-01T00:00:00",
          "2002-06-26T00:00:00",
          "2007-11-14T00:00:00",
          "2002-10-20T00:00:00",
          "2008-02-13T00:00:00",
          "2006-12-26T00:00:00",
          "2002-10-20T00:00:00",
          "2003-03-01T00:00:00",
          "2003-10-10T00:00:00",
          "2010-08-14T00:00:00",
          "2002-03-29T00:00:00",
          "2015-11-12T00:00:00",
          "2002-06-26T00:00:00",
          "2002-06-26T00:00:00",
          "2002-09-16T00:00:00",
          "2021-08-12T00:00:00",
          "2002-06-26T00:00:00",
          "2003-03-01T00:00:00",
          "2002-06-26T00:00:00",
          "2002-09-16T00:00:00",
          "2002-03-08T00:00:00",
          "2003-03-01T00:00:00",
          "2002-06-26T00:00:00",
          "2003-07-18T00:00:00",
          "2005-03-01T00:00:00",
          "2015-06-04T00:00:00",
          "2002-10-20T00:00:00",
          "2002-06-26T00:00:00",
          "2003-07-18T00:00:00",
          "2012-09-29T00:00:00",
          "2010-08-14T00:00:00",
          "2002-06-26T00:00:00",
          "2002-03-29T00:00:00",
          "2002-03-29T00:00:00",
          "2002-09-01T00:00:00",
          "2002-03-29T00:00:00",
          "2018-07-12T00:00:00",
          "2002-03-08T00:00:00",
          "2004-10-01T00:00:00",
          "2003-10-10T00:00:00",
          "2004-03-01T00:00:00",
          "2002-03-29T00:00:00",
          "2002-10-01T00:00:00",
          "2002-03-29T00:00:00",
          "2002-03-08T00:00:00",
          "2002-03-29T00:00:00",
          "2003-07-18T00:00:00",
          "2002-09-01T00:00:00",
          "2017-04-13T00:00:00",
          "2018-03-22T00:00:00",
          "2003-03-01T00:00:00",
          "2004-11-20T00:00:00",
          "2010-01-29T00:00:00",
          "2006-12-26T00:00:00",
          "2015-08-06T00:00:00",
          "2002-03-29T00:00:00",
          "2002-03-29T00:00:00",
          "2002-03-08T00:00:00",
          "2004-03-01T00:00:00",
          "2002-03-29T00:00:00",
          "2003-12-01T00:00:00",
          "2012-04-28T00:00:00",
          "2002-03-29T00:00:00",
          "2002-10-20T00:00:00",
          "2003-06-06T00:00:00",
          "2002-10-20T00:00:00",
          "2002-03-29T00:00:00",
          "2015-05-14T00:00:00",
          "2002-06-26T00:00:00",
          "2002-06-26T00:00:00",
          "2005-11-16T00:00:00",
          "2002-09-16T00:00:00",
          "2007-08-15T00:00:00",
          "2015-10-23T00:00:00",
          "2003-06-06T00:00:00",
          "2002-03-29T00:00:00",
          "2002-03-29T00:00:00",
          "2006-08-16T00:00:00",
          "2014-12-05T00:00:00",
          "2004-03-01T00:00:00",
          "2008-05-12T00:00:00",
          "2003-03-01T00:00:00",
          "2002-09-01T00:00:00",
          "2020-01-31T00:00:00",
          "2004-10-01T00:00:00",
          "2002-10-20T00:00:00",
          "2002-03-08T00:00:00",
          "2002-10-20T00:00:00",
          "2005-06-01T00:00:00",
          "2017-08-03T00:00:00",
          "2002-03-29T00:00:00",
          "2004-03-01T00:00:00",
          "2003-07-18T00:00:00",
          "2005-03-01T00:00:00",
          "2002-10-01T00:00:00",
          "2002-03-08T00:00:00",
          "2002-12-20T00:00:00",
          "2002-10-01T00:00:00",
          "2006-04-28T00:00:00",
          "2002-03-08T00:00:00",
          "2020-05-15T00:00:00",
          "2003-06-06T00:00:00",
          "2003-03-01T00:00:00",
          "2003-06-06T00:00:00",
          "2003-03-01T00:00:00",
          "2013-10-11T00:00:00",
          "2002-09-01T00:00:00",
          "2002-10-20T00:00:00",
          "2002-09-01T00:00:00",
          "2002-06-26T00:00:00",
          "2003-03-30T00:00:00",
          "2002-03-08T00:00:00",
          "2002-03-08T00:00:00",
          "2002-03-08T00:00:00",
          "2002-10-01T00:00:00",
          "2002-03-08T00:00:00",
          "2002-03-08T00:00:00",
          "2005-11-16T00:00:00",
          "2007-08-15T00:00:00",
          "2006-04-28T00:00:00",
          "2005-09-01T00:00:00",
          "2003-06-06T00:00:00",
          "2004-06-01T00:00:00",
          "2002-10-01T00:00:00",
          "2002-06-26T00:00:00",
          "2002-09-16T00:00:00",
          "2010-08-14T00:00:00",
          "2002-03-29T00:00:00",
          "2002-09-01T00:00:00",
          "2002-03-08T00:00:00",
          "2003-06-06T00:00:00",
          "2003-03-01T00:00:00",
          "2002-09-01T00:00:00",
          "2003-10-10T00:00:00",
          "2009-06-09T00:00:00",
          "2020-05-15T00:00:00",
          "2002-12-20T00:00:00",
          "2018-02-01T00:00:00",
          "2005-11-16T00:00:00"
         ],
         "xaxis": "x",
         "y": [
          1800,
          2000,
          1900,
          1500,
          1400,
          1300,
          1450,
          1400,
          1200,
          1900,
          1500,
          850,
          1700,
          1550,
          1000,
          1700,
          1400,
          1600,
          1200,
          1800,
          1350,
          1700,
          1200,
          1500,
          1400,
          1850,
          850,
          1600,
          1300,
          1400,
          1900,
          1600,
          1600,
          1400,
          1400,
          1300,
          1200,
          1800,
          1100,
          1300,
          1700,
          1700,
          1500,
          1350,
          1500,
          1800,
          500,
          800,
          1600,
          1950,
          1100,
          1400,
          1500,
          1300,
          1100,
          1600,
          1300,
          800,
          1500,
          1200,
          1200,
          1850,
          1500,
          1500,
          1900,
          0,
          1600,
          1900,
          2000,
          1500,
          1800,
          1200,
          1800,
          1700,
          1900,
          1200,
          1200,
          1500,
          1800,
          1250,
          1600,
          1200,
          1500,
          1000,
          1650,
          2000,
          1300,
          1450,
          1450,
          1650,
          1200,
          800,
          1500,
          1600,
          1900,
          950,
          1100,
          1200,
          1700,
          1400,
          1050,
          1200,
          1500,
          1500,
          1250,
          1800,
          2000,
          1200,
          1400,
          1900,
          1900,
          1300,
          1500,
          1600,
          1100,
          1200,
          1750,
          1850,
          2000,
          2000,
          1500,
          500,
          1500,
          1100,
          2000,
          1500,
          1300,
          800,
          1800,
          1700,
          1800,
          1800,
          1200,
          1400,
          1800,
          1600,
          1500,
          2000,
          500,
          800,
          1500,
          1400,
          100,
          1200,
          1600,
          1600,
          1600,
          1900,
          1100,
          1800,
          1300,
          1600,
          1300,
          2000,
          1350,
          1600,
          1550,
          1800,
          700,
          1000,
          1450,
          0,
          1200,
          1700,
          1400,
          800,
          1500,
          1450,
          900,
          1200,
          1200,
          1300,
          1300,
          1500,
          1200,
          1500,
          1100,
          1200,
          1300,
          1350,
          800,
          1300,
          1200,
          1000,
          1600,
          1200,
          1500,
          1600,
          100,
          1550,
          1900,
          1700,
          1600,
          1400,
          1400,
          1650,
          1000,
          1400,
          1200,
          1400,
          1650,
          1400,
          1250,
          1800,
          1800,
          1000,
          1300,
          2000,
          1800
         ],
         "yaxis": "y"
        },
        {
         "hovertemplate": "<b>OLS trendline</b><br>atk = 33.8694 * release_date + 1431.11<br>R<sup>2</sup>=0.009686<br><br>release_date=%{x}<br>atk=%{y} <b>(trend)</b><extra></extra>",
         "legendgroup": "",
         "marker": {
          "color": "#636efa",
          "symbol": "circle"
         },
         "mode": "lines",
         "name": "",
         "showlegend": false,
         "type": "scatter",
         "x": [
          "2002-03-08T00:00:00",
          "2002-03-08T00:00:00",
          "2002-03-08T00:00:00",
          "2002-03-08T00:00:00",
          "2002-03-08T00:00:00",
          "2002-03-08T00:00:00",
          "2002-03-08T00:00:00",
          "2002-03-08T00:00:00",
          "2002-03-08T00:00:00",
          "2002-03-08T00:00:00",
          "2002-03-08T00:00:00",
          "2002-03-08T00:00:00",
          "2002-03-08T00:00:00",
          "2002-03-08T00:00:00",
          "2002-03-08T00:00:00",
          "2002-03-08T00:00:00",
          "2002-03-08T00:00:00",
          "2002-03-08T00:00:00",
          "2002-03-08T00:00:00",
          "2002-03-08T00:00:00",
          "2002-03-29T00:00:00",
          "2002-03-29T00:00:00",
          "2002-03-29T00:00:00",
          "2002-03-29T00:00:00",
          "2002-03-29T00:00:00",
          "2002-03-29T00:00:00",
          "2002-03-29T00:00:00",
          "2002-03-29T00:00:00",
          "2002-03-29T00:00:00",
          "2002-03-29T00:00:00",
          "2002-03-29T00:00:00",
          "2002-03-29T00:00:00",
          "2002-03-29T00:00:00",
          "2002-03-29T00:00:00",
          "2002-03-29T00:00:00",
          "2002-03-29T00:00:00",
          "2002-03-29T00:00:00",
          "2002-03-29T00:00:00",
          "2002-03-29T00:00:00",
          "2002-03-29T00:00:00",
          "2002-03-29T00:00:00",
          "2002-03-29T00:00:00",
          "2002-03-29T00:00:00",
          "2002-03-29T00:00:00",
          "2002-06-26T00:00:00",
          "2002-06-26T00:00:00",
          "2002-06-26T00:00:00",
          "2002-06-26T00:00:00",
          "2002-06-26T00:00:00",
          "2002-06-26T00:00:00",
          "2002-06-26T00:00:00",
          "2002-06-26T00:00:00",
          "2002-06-26T00:00:00",
          "2002-06-26T00:00:00",
          "2002-06-26T00:00:00",
          "2002-06-26T00:00:00",
          "2002-06-26T00:00:00",
          "2002-06-26T00:00:00",
          "2002-06-26T00:00:00",
          "2002-06-26T00:00:00",
          "2002-06-26T00:00:00",
          "2002-06-26T00:00:00",
          "2002-06-26T00:00:00",
          "2002-09-01T00:00:00",
          "2002-09-01T00:00:00",
          "2002-09-01T00:00:00",
          "2002-09-01T00:00:00",
          "2002-09-01T00:00:00",
          "2002-09-01T00:00:00",
          "2002-09-01T00:00:00",
          "2002-09-01T00:00:00",
          "2002-09-01T00:00:00",
          "2002-09-01T00:00:00",
          "2002-09-01T00:00:00",
          "2002-09-16T00:00:00",
          "2002-09-16T00:00:00",
          "2002-09-16T00:00:00",
          "2002-09-16T00:00:00",
          "2002-09-16T00:00:00",
          "2002-10-01T00:00:00",
          "2002-10-01T00:00:00",
          "2002-10-01T00:00:00",
          "2002-10-01T00:00:00",
          "2002-10-01T00:00:00",
          "2002-10-01T00:00:00",
          "2002-10-01T00:00:00",
          "2002-10-01T00:00:00",
          "2002-10-01T00:00:00",
          "2002-10-20T00:00:00",
          "2002-10-20T00:00:00",
          "2002-10-20T00:00:00",
          "2002-10-20T00:00:00",
          "2002-10-20T00:00:00",
          "2002-10-20T00:00:00",
          "2002-10-20T00:00:00",
          "2002-10-20T00:00:00",
          "2002-10-20T00:00:00",
          "2002-10-20T00:00:00",
          "2002-10-20T00:00:00",
          "2002-10-20T00:00:00",
          "2002-12-20T00:00:00",
          "2002-12-20T00:00:00",
          "2002-12-20T00:00:00",
          "2002-12-20T00:00:00",
          "2003-02-16T00:00:00",
          "2003-02-16T00:00:00",
          "2003-02-16T00:00:00",
          "2003-03-01T00:00:00",
          "2003-03-01T00:00:00",
          "2003-03-01T00:00:00",
          "2003-03-01T00:00:00",
          "2003-03-01T00:00:00",
          "2003-03-01T00:00:00",
          "2003-03-01T00:00:00",
          "2003-03-01T00:00:00",
          "2003-03-01T00:00:00",
          "2003-03-01T00:00:00",
          "2003-03-01T00:00:00",
          "2003-03-30T00:00:00",
          "2003-06-06T00:00:00",
          "2003-06-06T00:00:00",
          "2003-06-06T00:00:00",
          "2003-06-06T00:00:00",
          "2003-06-06T00:00:00",
          "2003-06-06T00:00:00",
          "2003-07-18T00:00:00",
          "2003-07-18T00:00:00",
          "2003-07-18T00:00:00",
          "2003-07-18T00:00:00",
          "2003-10-10T00:00:00",
          "2003-10-10T00:00:00",
          "2003-10-10T00:00:00",
          "2003-10-10T00:00:00",
          "2003-12-01T00:00:00",
          "2003-12-01T00:00:00",
          "2003-12-01T00:00:00",
          "2003-12-01T00:00:00",
          "2004-03-01T00:00:00",
          "2004-03-01T00:00:00",
          "2004-03-01T00:00:00",
          "2004-03-01T00:00:00",
          "2004-03-01T00:00:00",
          "2004-06-01T00:00:00",
          "2004-10-01T00:00:00",
          "2004-10-01T00:00:00",
          "2004-11-20T00:00:00",
          "2005-03-01T00:00:00",
          "2005-03-01T00:00:00",
          "2005-03-01T00:00:00",
          "2005-06-01T00:00:00",
          "2005-06-01T00:00:00",
          "2005-06-01T00:00:00",
          "2005-09-01T00:00:00",
          "2005-11-16T00:00:00",
          "2005-11-16T00:00:00",
          "2005-11-16T00:00:00",
          "2005-11-16T00:00:00",
          "2006-04-28T00:00:00",
          "2006-04-28T00:00:00",
          "2006-04-28T00:00:00",
          "2006-04-28T00:00:00",
          "2006-04-28T00:00:00",
          "2006-08-16T00:00:00",
          "2006-12-26T00:00:00",
          "2006-12-26T00:00:00",
          "2007-02-28T00:00:00",
          "2007-05-15T00:00:00",
          "2007-08-15T00:00:00",
          "2007-08-15T00:00:00",
          "2007-08-15T00:00:00",
          "2007-11-14T00:00:00",
          "2008-01-08T00:00:00",
          "2008-02-13T00:00:00",
          "2008-05-12T00:00:00",
          "2009-06-09T00:00:00",
          "2009-11-17T00:00:00",
          "2010-01-29T00:00:00",
          "2010-08-14T00:00:00",
          "2010-08-14T00:00:00",
          "2010-08-14T00:00:00",
          "2010-08-14T00:00:00",
          "2011-05-29T00:00:00",
          "2011-05-29T00:00:00",
          "2011-05-29T00:00:00",
          "2011-11-05T00:00:00",
          "2012-04-28T00:00:00",
          "2012-09-28T00:00:00",
          "2012-09-29T00:00:00",
          "2013-10-11T00:00:00",
          "2014-12-05T00:00:00",
          "2015-05-14T00:00:00",
          "2015-06-04T00:00:00",
          "2015-08-06T00:00:00",
          "2015-10-23T00:00:00",
          "2015-11-12T00:00:00",
          "2017-04-13T00:00:00",
          "2017-08-03T00:00:00",
          "2017-08-03T00:00:00",
          "2018-02-01T00:00:00",
          "2018-03-22T00:00:00",
          "2018-07-12T00:00:00",
          "2019-08-01T00:00:00",
          "2019-12-06T00:00:00",
          "2020-01-31T00:00:00",
          "2020-05-15T00:00:00",
          "2020-05-15T00:00:00",
          "2020-05-15T00:00:00",
          "2021-08-12T00:00:00",
          "2021-08-12T00:00:00"
         ],
         "xaxis": "x",
         "y": [
          1388.6167903246896,
          1388.6167903246896,
          1388.6167903246896,
          1388.6167903246896,
          1388.6167903246896,
          1388.6167903246896,
          1388.6167903246896,
          1388.6167903246896,
          1388.6167903246896,
          1388.6167903246896,
          1388.6167903246896,
          1388.6167903246896,
          1388.6167903246896,
          1388.6167903246896,
          1388.6167903246896,
          1388.6167903246896,
          1388.6167903246896,
          1388.6167903246896,
          1388.6167903246896,
          1388.6167903246896,
          1376.9568786891919,
          1376.9568786891919,
          1376.9568786891919,
          1376.9568786891919,
          1376.9568786891919,
          1376.9568786891919,
          1376.9568786891919,
          1376.9568786891919,
          1376.9568786891919,
          1376.9568786891919,
          1376.9568786891919,
          1376.9568786891919,
          1376.9568786891919,
          1376.9568786891919,
          1376.9568786891919,
          1376.9568786891919,
          1376.9568786891919,
          1376.9568786891919,
          1376.9568786891919,
          1376.9568786891919,
          1376.9568786891919,
          1376.9568786891919,
          1376.9568786891919,
          1376.9568786891919,
          1452.2280120361104,
          1452.2280120361104,
          1452.2280120361104,
          1452.2280120361104,
          1452.2280120361104,
          1452.2280120361104,
          1452.2280120361104,
          1452.2280120361104,
          1452.2280120361104,
          1452.2280120361104,
          1452.2280120361104,
          1452.2280120361104,
          1452.2280120361104,
          1452.2280120361104,
          1452.2280120361104,
          1452.2280120361104,
          1452.2280120361104,
          1452.2280120361104,
          1452.2280120361104,
          1456.589658021976,
          1456.589658021976,
          1456.589658021976,
          1456.589658021976,
          1456.589658021976,
          1456.589658021976,
          1456.589658021976,
          1456.589658021976,
          1456.589658021976,
          1456.589658021976,
          1456.589658021976,
          1385.91767504794,
          1385.91767504794,
          1385.91767504794,
          1385.91767504794,
          1385.91767504794,
          1460.7137996208253,
          1460.7137996208253,
          1460.7137996208253,
          1460.7137996208253,
          1460.7137996208253,
          1460.7137996208253,
          1460.7137996208253,
          1460.7137996208253,
          1460.7137996208253,
          1429.3831975391481,
          1429.3831975391481,
          1429.3831975391481,
          1429.3831975391481,
          1429.3831975391481,
          1429.3831975391481,
          1429.3831975391481,
          1429.3831975391481,
          1429.3831975391481,
          1429.3831975391481,
          1429.3831975391481,
          1429.3831975391481,
          1374.7327721864756,
          1374.7327721864756,
          1374.7327721864756,
          1374.7327721864756,
          1363.3103649379946,
          1363.3103649379946,
          1363.3103649379946,
          1418.4357990647002,
          1418.4357990647002,
          1418.4357990647002,
          1418.4357990647002,
          1418.4357990647002,
          1418.4357990647002,
          1418.4357990647002,
          1418.4357990647002,
          1418.4357990647002,
          1418.4357990647002,
          1418.4357990647002,
          1485.4586492139204,
          1426.9215866494153,
          1426.9215866494153,
          1426.9215866494153,
          1426.9215866494153,
          1426.9215866494153,
          1426.9215866494153,
          1403.60176337842,
          1403.60176337842,
          1403.60176337842,
          1403.60176337842,
          1502.4302243833502,
          1502.4302243833502,
          1502.4302243833502,
          1502.4302243833502,
          1431.9957457963308,
          1431.9957457963308,
          1431.9957457963308,
          1431.9957457963308,
          1381.4694620425075,
          1381.4694620425075,
          1381.4694620425075,
          1381.4694620425075,
          1381.4694620425075,
          1413.5125772852346,
          1449.6798341268106,
          1449.6798341268106,
          1359.5746650936119,
          1407.4018335706855,
          1407.4018335706855,
          1407.4018335706855,
          1439.4449488134126,
          1439.4449488134126,
          1439.4449488134126,
          1471.4880640561396,
          1491.633763276352,
          1491.633763276352,
          1491.633763276352,
          1491.633763276352,
          1421.9117978503825,
          1421.9117978503825,
          1421.9117978503825,
          1421.9117978503825,
          1421.9117978503825,
          1485.5230195618033,
          1474.5756210873553,
          1474.5756210873553,
          1376.6971776304915,
          1396.8428768507042,
          1428.885992093431,
          1428.885992093431,
          1428.885992093431,
          1378.3597083396078,
          1410.1653191953183,
          1473.3015321327057,
          1403.1045579327028,
          1413.4903806135508,
          1469.5658322883228,
          1387.4714420658058,
          1361.2149991310444,
          1361.2149991310444,
          1361.2149991310444,
          1361.2149991310444,
          1429.9003799893806,
          1429.9003799893806,
          1429.9003799893806,
          1403.4064326676025,
          1451.7086099187095,
          1429.101299808764,
          1366.202591258393,
          1364.6909979167267,
          1422.428980300615,
          1395.935032978837,
          1384.2751213433394,
          1494.7634939837674,
          1389.1117761032383,
          1440.3505730181114,
          1443.675634436344,
          1381.4894390470229,
          1381.4894390470229,
          1425.9049790862973,
          1398.6985186034694,
          1481.9804307610696,
          1413.6834916571997,
          1426.293420840764,
          1395.2003231461033,
          1482.368872515536,
          1482.368872515536,
          1482.368872515536,
          1438.1042698437113,
          1438.1042698437113
         ],
         "yaxis": "y"
        }
       ],
       "layout": {
        "legend": {
         "tracegroupgap": 0
        },
        "template": {
         "data": {
          "bar": [
           {
            "error_x": {
             "color": "#2a3f5f"
            },
            "error_y": {
             "color": "#2a3f5f"
            },
            "marker": {
             "line": {
              "color": "#E5ECF6",
              "width": 0.5
             }
            },
            "type": "bar"
           }
          ],
          "barpolar": [
           {
            "marker": {
             "line": {
              "color": "#E5ECF6",
              "width": 0.5
             }
            },
            "type": "barpolar"
           }
          ],
          "carpet": [
           {
            "aaxis": {
             "endlinecolor": "#2a3f5f",
             "gridcolor": "white",
             "linecolor": "white",
             "minorgridcolor": "white",
             "startlinecolor": "#2a3f5f"
            },
            "baxis": {
             "endlinecolor": "#2a3f5f",
             "gridcolor": "white",
             "linecolor": "white",
             "minorgridcolor": "white",
             "startlinecolor": "#2a3f5f"
            },
            "type": "carpet"
           }
          ],
          "choropleth": [
           {
            "colorbar": {
             "outlinewidth": 0,
             "ticks": ""
            },
            "type": "choropleth"
           }
          ],
          "contour": [
           {
            "colorbar": {
             "outlinewidth": 0,
             "ticks": ""
            },
            "colorscale": [
             [
              0,
              "#0d0887"
             ],
             [
              0.1111111111111111,
              "#46039f"
             ],
             [
              0.2222222222222222,
              "#7201a8"
             ],
             [
              0.3333333333333333,
              "#9c179e"
             ],
             [
              0.4444444444444444,
              "#bd3786"
             ],
             [
              0.5555555555555556,
              "#d8576b"
             ],
             [
              0.6666666666666666,
              "#ed7953"
             ],
             [
              0.7777777777777778,
              "#fb9f3a"
             ],
             [
              0.8888888888888888,
              "#fdca26"
             ],
             [
              1,
              "#f0f921"
             ]
            ],
            "type": "contour"
           }
          ],
          "contourcarpet": [
           {
            "colorbar": {
             "outlinewidth": 0,
             "ticks": ""
            },
            "type": "contourcarpet"
           }
          ],
          "heatmap": [
           {
            "colorbar": {
             "outlinewidth": 0,
             "ticks": ""
            },
            "colorscale": [
             [
              0,
              "#0d0887"
             ],
             [
              0.1111111111111111,
              "#46039f"
             ],
             [
              0.2222222222222222,
              "#7201a8"
             ],
             [
              0.3333333333333333,
              "#9c179e"
             ],
             [
              0.4444444444444444,
              "#bd3786"
             ],
             [
              0.5555555555555556,
              "#d8576b"
             ],
             [
              0.6666666666666666,
              "#ed7953"
             ],
             [
              0.7777777777777778,
              "#fb9f3a"
             ],
             [
              0.8888888888888888,
              "#fdca26"
             ],
             [
              1,
              "#f0f921"
             ]
            ],
            "type": "heatmap"
           }
          ],
          "heatmapgl": [
           {
            "colorbar": {
             "outlinewidth": 0,
             "ticks": ""
            },
            "colorscale": [
             [
              0,
              "#0d0887"
             ],
             [
              0.1111111111111111,
              "#46039f"
             ],
             [
              0.2222222222222222,
              "#7201a8"
             ],
             [
              0.3333333333333333,
              "#9c179e"
             ],
             [
              0.4444444444444444,
              "#bd3786"
             ],
             [
              0.5555555555555556,
              "#d8576b"
             ],
             [
              0.6666666666666666,
              "#ed7953"
             ],
             [
              0.7777777777777778,
              "#fb9f3a"
             ],
             [
              0.8888888888888888,
              "#fdca26"
             ],
             [
              1,
              "#f0f921"
             ]
            ],
            "type": "heatmapgl"
           }
          ],
          "histogram": [
           {
            "marker": {
             "colorbar": {
              "outlinewidth": 0,
              "ticks": ""
             }
            },
            "type": "histogram"
           }
          ],
          "histogram2d": [
           {
            "colorbar": {
             "outlinewidth": 0,
             "ticks": ""
            },
            "colorscale": [
             [
              0,
              "#0d0887"
             ],
             [
              0.1111111111111111,
              "#46039f"
             ],
             [
              0.2222222222222222,
              "#7201a8"
             ],
             [
              0.3333333333333333,
              "#9c179e"
             ],
             [
              0.4444444444444444,
              "#bd3786"
             ],
             [
              0.5555555555555556,
              "#d8576b"
             ],
             [
              0.6666666666666666,
              "#ed7953"
             ],
             [
              0.7777777777777778,
              "#fb9f3a"
             ],
             [
              0.8888888888888888,
              "#fdca26"
             ],
             [
              1,
              "#f0f921"
             ]
            ],
            "type": "histogram2d"
           }
          ],
          "histogram2dcontour": [
           {
            "colorbar": {
             "outlinewidth": 0,
             "ticks": ""
            },
            "colorscale": [
             [
              0,
              "#0d0887"
             ],
             [
              0.1111111111111111,
              "#46039f"
             ],
             [
              0.2222222222222222,
              "#7201a8"
             ],
             [
              0.3333333333333333,
              "#9c179e"
             ],
             [
              0.4444444444444444,
              "#bd3786"
             ],
             [
              0.5555555555555556,
              "#d8576b"
             ],
             [
              0.6666666666666666,
              "#ed7953"
             ],
             [
              0.7777777777777778,
              "#fb9f3a"
             ],
             [
              0.8888888888888888,
              "#fdca26"
             ],
             [
              1,
              "#f0f921"
             ]
            ],
            "type": "histogram2dcontour"
           }
          ],
          "mesh3d": [
           {
            "colorbar": {
             "outlinewidth": 0,
             "ticks": ""
            },
            "type": "mesh3d"
           }
          ],
          "parcoords": [
           {
            "line": {
             "colorbar": {
              "outlinewidth": 0,
              "ticks": ""
             }
            },
            "type": "parcoords"
           }
          ],
          "pie": [
           {
            "automargin": true,
            "type": "pie"
           }
          ],
          "scatter": [
           {
            "marker": {
             "colorbar": {
              "outlinewidth": 0,
              "ticks": ""
             }
            },
            "type": "scatter"
           }
          ],
          "scatter3d": [
           {
            "line": {
             "colorbar": {
              "outlinewidth": 0,
              "ticks": ""
             }
            },
            "marker": {
             "colorbar": {
              "outlinewidth": 0,
              "ticks": ""
             }
            },
            "type": "scatter3d"
           }
          ],
          "scattercarpet": [
           {
            "marker": {
             "colorbar": {
              "outlinewidth": 0,
              "ticks": ""
             }
            },
            "type": "scattercarpet"
           }
          ],
          "scattergeo": [
           {
            "marker": {
             "colorbar": {
              "outlinewidth": 0,
              "ticks": ""
             }
            },
            "type": "scattergeo"
           }
          ],
          "scattergl": [
           {
            "marker": {
             "colorbar": {
              "outlinewidth": 0,
              "ticks": ""
             }
            },
            "type": "scattergl"
           }
          ],
          "scattermapbox": [
           {
            "marker": {
             "colorbar": {
              "outlinewidth": 0,
              "ticks": ""
             }
            },
            "type": "scattermapbox"
           }
          ],
          "scatterpolar": [
           {
            "marker": {
             "colorbar": {
              "outlinewidth": 0,
              "ticks": ""
             }
            },
            "type": "scatterpolar"
           }
          ],
          "scatterpolargl": [
           {
            "marker": {
             "colorbar": {
              "outlinewidth": 0,
              "ticks": ""
             }
            },
            "type": "scatterpolargl"
           }
          ],
          "scatterternary": [
           {
            "marker": {
             "colorbar": {
              "outlinewidth": 0,
              "ticks": ""
             }
            },
            "type": "scatterternary"
           }
          ],
          "surface": [
           {
            "colorbar": {
             "outlinewidth": 0,
             "ticks": ""
            },
            "colorscale": [
             [
              0,
              "#0d0887"
             ],
             [
              0.1111111111111111,
              "#46039f"
             ],
             [
              0.2222222222222222,
              "#7201a8"
             ],
             [
              0.3333333333333333,
              "#9c179e"
             ],
             [
              0.4444444444444444,
              "#bd3786"
             ],
             [
              0.5555555555555556,
              "#d8576b"
             ],
             [
              0.6666666666666666,
              "#ed7953"
             ],
             [
              0.7777777777777778,
              "#fb9f3a"
             ],
             [
              0.8888888888888888,
              "#fdca26"
             ],
             [
              1,
              "#f0f921"
             ]
            ],
            "type": "surface"
           }
          ],
          "table": [
           {
            "cells": {
             "fill": {
              "color": "#EBF0F8"
             },
             "line": {
              "color": "white"
             }
            },
            "header": {
             "fill": {
              "color": "#C8D4E3"
             },
             "line": {
              "color": "white"
             }
            },
            "type": "table"
           }
          ]
         },
         "layout": {
          "annotationdefaults": {
           "arrowcolor": "#2a3f5f",
           "arrowhead": 0,
           "arrowwidth": 1
          },
          "autotypenumbers": "strict",
          "coloraxis": {
           "colorbar": {
            "outlinewidth": 0,
            "ticks": ""
           }
          },
          "colorscale": {
           "diverging": [
            [
             0,
             "#8e0152"
            ],
            [
             0.1,
             "#c51b7d"
            ],
            [
             0.2,
             "#de77ae"
            ],
            [
             0.3,
             "#f1b6da"
            ],
            [
             0.4,
             "#fde0ef"
            ],
            [
             0.5,
             "#f7f7f7"
            ],
            [
             0.6,
             "#e6f5d0"
            ],
            [
             0.7,
             "#b8e186"
            ],
            [
             0.8,
             "#7fbc41"
            ],
            [
             0.9,
             "#4d9221"
            ],
            [
             1,
             "#276419"
            ]
           ],
           "sequential": [
            [
             0,
             "#0d0887"
            ],
            [
             0.1111111111111111,
             "#46039f"
            ],
            [
             0.2222222222222222,
             "#7201a8"
            ],
            [
             0.3333333333333333,
             "#9c179e"
            ],
            [
             0.4444444444444444,
             "#bd3786"
            ],
            [
             0.5555555555555556,
             "#d8576b"
            ],
            [
             0.6666666666666666,
             "#ed7953"
            ],
            [
             0.7777777777777778,
             "#fb9f3a"
            ],
            [
             0.8888888888888888,
             "#fdca26"
            ],
            [
             1,
             "#f0f921"
            ]
           ],
           "sequentialminus": [
            [
             0,
             "#0d0887"
            ],
            [
             0.1111111111111111,
             "#46039f"
            ],
            [
             0.2222222222222222,
             "#7201a8"
            ],
            [
             0.3333333333333333,
             "#9c179e"
            ],
            [
             0.4444444444444444,
             "#bd3786"
            ],
            [
             0.5555555555555556,
             "#d8576b"
            ],
            [
             0.6666666666666666,
             "#ed7953"
            ],
            [
             0.7777777777777778,
             "#fb9f3a"
            ],
            [
             0.8888888888888888,
             "#fdca26"
            ],
            [
             1,
             "#f0f921"
            ]
           ]
          },
          "colorway": [
           "#636efa",
           "#EF553B",
           "#00cc96",
           "#ab63fa",
           "#FFA15A",
           "#19d3f3",
           "#FF6692",
           "#B6E880",
           "#FF97FF",
           "#FECB52"
          ],
          "font": {
           "color": "#2a3f5f"
          },
          "geo": {
           "bgcolor": "white",
           "lakecolor": "white",
           "landcolor": "#E5ECF6",
           "showlakes": true,
           "showland": true,
           "subunitcolor": "white"
          },
          "hoverlabel": {
           "align": "left"
          },
          "hovermode": "closest",
          "mapbox": {
           "style": "light"
          },
          "paper_bgcolor": "white",
          "plot_bgcolor": "#E5ECF6",
          "polar": {
           "angularaxis": {
            "gridcolor": "white",
            "linecolor": "white",
            "ticks": ""
           },
           "bgcolor": "#E5ECF6",
           "radialaxis": {
            "gridcolor": "white",
            "linecolor": "white",
            "ticks": ""
           }
          },
          "scene": {
           "xaxis": {
            "backgroundcolor": "#E5ECF6",
            "gridcolor": "white",
            "gridwidth": 2,
            "linecolor": "white",
            "showbackground": true,
            "ticks": "",
            "zerolinecolor": "white"
           },
           "yaxis": {
            "backgroundcolor": "#E5ECF6",
            "gridcolor": "white",
            "gridwidth": 2,
            "linecolor": "white",
            "showbackground": true,
            "ticks": "",
            "zerolinecolor": "white"
           },
           "zaxis": {
            "backgroundcolor": "#E5ECF6",
            "gridcolor": "white",
            "gridwidth": 2,
            "linecolor": "white",
            "showbackground": true,
            "ticks": "",
            "zerolinecolor": "white"
           }
          },
          "shapedefaults": {
           "line": {
            "color": "#2a3f5f"
           }
          },
          "ternary": {
           "aaxis": {
            "gridcolor": "white",
            "linecolor": "white",
            "ticks": ""
           },
           "baxis": {
            "gridcolor": "white",
            "linecolor": "white",
            "ticks": ""
           },
           "bgcolor": "#E5ECF6",
           "caxis": {
            "gridcolor": "white",
            "linecolor": "white",
            "ticks": ""
           }
          },
          "title": {
           "x": 0.05
          },
          "xaxis": {
           "automargin": true,
           "gridcolor": "white",
           "linecolor": "white",
           "ticks": "",
           "title": {
            "standoff": 15
           },
           "zerolinecolor": "white",
           "zerolinewidth": 2
          },
          "yaxis": {
           "automargin": true,
           "gridcolor": "white",
           "linecolor": "white",
           "ticks": "",
           "title": {
            "standoff": 15
           },
           "zerolinecolor": "white",
           "zerolinewidth": 2
          }
         }
        },
        "title": {
         "text": "release_date v. atk"
        },
        "xaxis": {
         "anchor": "y",
         "domain": [
          0,
          1
         ],
         "title": {
          "text": "release_date"
         }
        },
        "yaxis": {
         "anchor": "x",
         "domain": [
          0,
          1
         ],
         "title": {
          "text": "atk"
         }
        }
       }
      },
      "text/html": [
       "<div>                            <div id=\"781d02be-62c9-436c-8522-a2d940b04c9d\" class=\"plotly-graph-div\" style=\"height:525px; width:100%;\"></div>            <script type=\"text/javascript\">                require([\"plotly\"], function(Plotly) {                    window.PLOTLYENV=window.PLOTLYENV || {};                                    if (document.getElementById(\"781d02be-62c9-436c-8522-a2d940b04c9d\")) {                    Plotly.newPlot(                        \"781d02be-62c9-436c-8522-a2d940b04c9d\",                        [{\"hovertemplate\": \"release_date=%{x}<br>atk=%{y}<extra></extra>\", \"legendgroup\": \"\", \"marker\": {\"color\": \"#636efa\", \"symbol\": \"circle\"}, \"mode\": \"markers\", \"name\": \"\", \"orientation\": \"v\", \"showlegend\": false, \"type\": \"scatter\", \"x\": [\"2002-06-26T00:00:00\", \"2011-11-05T00:00:00\", \"2007-08-15T00:00:00\", \"2010-08-14T00:00:00\", \"2003-02-16T00:00:00\", \"2008-01-08T00:00:00\", \"2002-03-29T00:00:00\", \"2002-06-26T00:00:00\", \"2002-03-08T00:00:00\", \"2003-12-01T00:00:00\", \"2002-06-26T00:00:00\", \"2002-03-08T00:00:00\", \"2002-09-01T00:00:00\", \"2002-03-29T00:00:00\", \"2003-12-01T00:00:00\", \"2002-03-29T00:00:00\", \"2002-09-01T00:00:00\", \"2002-10-01T00:00:00\", \"2002-03-08T00:00:00\", \"2017-08-03T00:00:00\", \"2006-04-28T00:00:00\", \"2003-02-16T00:00:00\", \"2019-08-01T00:00:00\", \"2002-06-26T00:00:00\", \"2005-11-16T00:00:00\", \"2004-03-01T00:00:00\", \"2006-04-28T00:00:00\", \"2002-06-26T00:00:00\", \"2020-05-15T00:00:00\", \"2002-03-08T00:00:00\", \"2021-08-12T00:00:00\", \"2002-10-01T00:00:00\", \"2019-12-06T00:00:00\", \"2002-10-20T00:00:00\", \"2002-09-01T00:00:00\", \"2002-03-29T00:00:00\", \"2002-03-29T00:00:00\", \"2003-10-10T00:00:00\", \"2009-11-17T00:00:00\", \"2002-03-29T00:00:00\", \"2002-10-20T00:00:00\", \"2002-10-20T00:00:00\", \"2002-03-29T00:00:00\", \"2002-06-26T00:00:00\", \"2005-03-01T00:00:00\", \"2006-04-28T00:00:00\", \"2003-03-01T00:00:00\", \"2005-06-01T00:00:00\", \"2005-06-01T00:00:00\", \"2012-09-28T00:00:00\", \"2007-05-15T00:00:00\", \"2002-12-20T00:00:00\", \"2002-10-01T00:00:00\", \"2002-03-29T00:00:00\", \"2002-03-08T00:00:00\", \"2002-09-16T00:00:00\", \"2002-03-08T00:00:00\", \"2003-03-01T00:00:00\", \"2002-10-20T00:00:00\", \"2002-12-20T00:00:00\", \"2002-03-08T00:00:00\", \"2003-12-01T00:00:00\", \"2003-02-16T00:00:00\", \"2002-06-26T00:00:00\", \"2011-05-29T00:00:00\", \"2011-05-29T00:00:00\", \"2011-05-29T00:00:00\", \"2003-03-01T00:00:00\", \"2007-02-28T00:00:00\", \"2002-09-01T00:00:00\", \"2002-10-01T00:00:00\", \"2002-06-26T00:00:00\", \"2007-11-14T00:00:00\", \"2002-10-20T00:00:00\", \"2008-02-13T00:00:00\", \"2006-12-26T00:00:00\", \"2002-10-20T00:00:00\", \"2003-03-01T00:00:00\", \"2003-10-10T00:00:00\", \"2010-08-14T00:00:00\", \"2002-03-29T00:00:00\", \"2015-11-12T00:00:00\", \"2002-06-26T00:00:00\", \"2002-06-26T00:00:00\", \"2002-09-16T00:00:00\", \"2021-08-12T00:00:00\", \"2002-06-26T00:00:00\", \"2003-03-01T00:00:00\", \"2002-06-26T00:00:00\", \"2002-09-16T00:00:00\", \"2002-03-08T00:00:00\", \"2003-03-01T00:00:00\", \"2002-06-26T00:00:00\", \"2003-07-18T00:00:00\", \"2005-03-01T00:00:00\", \"2015-06-04T00:00:00\", \"2002-10-20T00:00:00\", \"2002-06-26T00:00:00\", \"2003-07-18T00:00:00\", \"2012-09-29T00:00:00\", \"2010-08-14T00:00:00\", \"2002-06-26T00:00:00\", \"2002-03-29T00:00:00\", \"2002-03-29T00:00:00\", \"2002-09-01T00:00:00\", \"2002-03-29T00:00:00\", \"2018-07-12T00:00:00\", \"2002-03-08T00:00:00\", \"2004-10-01T00:00:00\", \"2003-10-10T00:00:00\", \"2004-03-01T00:00:00\", \"2002-03-29T00:00:00\", \"2002-10-01T00:00:00\", \"2002-03-29T00:00:00\", \"2002-03-08T00:00:00\", \"2002-03-29T00:00:00\", \"2003-07-18T00:00:00\", \"2002-09-01T00:00:00\", \"2017-04-13T00:00:00\", \"2018-03-22T00:00:00\", \"2003-03-01T00:00:00\", \"2004-11-20T00:00:00\", \"2010-01-29T00:00:00\", \"2006-12-26T00:00:00\", \"2015-08-06T00:00:00\", \"2002-03-29T00:00:00\", \"2002-03-29T00:00:00\", \"2002-03-08T00:00:00\", \"2004-03-01T00:00:00\", \"2002-03-29T00:00:00\", \"2003-12-01T00:00:00\", \"2012-04-28T00:00:00\", \"2002-03-29T00:00:00\", \"2002-10-20T00:00:00\", \"2003-06-06T00:00:00\", \"2002-10-20T00:00:00\", \"2002-03-29T00:00:00\", \"2015-05-14T00:00:00\", \"2002-06-26T00:00:00\", \"2002-06-26T00:00:00\", \"2005-11-16T00:00:00\", \"2002-09-16T00:00:00\", \"2007-08-15T00:00:00\", \"2015-10-23T00:00:00\", \"2003-06-06T00:00:00\", \"2002-03-29T00:00:00\", \"2002-03-29T00:00:00\", \"2006-08-16T00:00:00\", \"2014-12-05T00:00:00\", \"2004-03-01T00:00:00\", \"2008-05-12T00:00:00\", \"2003-03-01T00:00:00\", \"2002-09-01T00:00:00\", \"2020-01-31T00:00:00\", \"2004-10-01T00:00:00\", \"2002-10-20T00:00:00\", \"2002-03-08T00:00:00\", \"2002-10-20T00:00:00\", \"2005-06-01T00:00:00\", \"2017-08-03T00:00:00\", \"2002-03-29T00:00:00\", \"2004-03-01T00:00:00\", \"2003-07-18T00:00:00\", \"2005-03-01T00:00:00\", \"2002-10-01T00:00:00\", \"2002-03-08T00:00:00\", \"2002-12-20T00:00:00\", \"2002-10-01T00:00:00\", \"2006-04-28T00:00:00\", \"2002-03-08T00:00:00\", \"2020-05-15T00:00:00\", \"2003-06-06T00:00:00\", \"2003-03-01T00:00:00\", \"2003-06-06T00:00:00\", \"2003-03-01T00:00:00\", \"2013-10-11T00:00:00\", \"2002-09-01T00:00:00\", \"2002-10-20T00:00:00\", \"2002-09-01T00:00:00\", \"2002-06-26T00:00:00\", \"2003-03-30T00:00:00\", \"2002-03-08T00:00:00\", \"2002-03-08T00:00:00\", \"2002-03-08T00:00:00\", \"2002-10-01T00:00:00\", \"2002-03-08T00:00:00\", \"2002-03-08T00:00:00\", \"2005-11-16T00:00:00\", \"2007-08-15T00:00:00\", \"2006-04-28T00:00:00\", \"2005-09-01T00:00:00\", \"2003-06-06T00:00:00\", \"2004-06-01T00:00:00\", \"2002-10-01T00:00:00\", \"2002-06-26T00:00:00\", \"2002-09-16T00:00:00\", \"2010-08-14T00:00:00\", \"2002-03-29T00:00:00\", \"2002-09-01T00:00:00\", \"2002-03-08T00:00:00\", \"2003-06-06T00:00:00\", \"2003-03-01T00:00:00\", \"2002-09-01T00:00:00\", \"2003-10-10T00:00:00\", \"2009-06-09T00:00:00\", \"2020-05-15T00:00:00\", \"2002-12-20T00:00:00\", \"2018-02-01T00:00:00\", \"2005-11-16T00:00:00\"], \"xaxis\": \"x\", \"y\": [1800.0, 2000.0, 1900.0, 1500.0, 1400.0, 1300.0, 1450.0, 1400.0, 1200.0, 1900.0, 1500.0, 850.0, 1700.0, 1550.0, 1000.0, 1700.0, 1400.0, 1600.0, 1200.0, 1800.0, 1350.0, 1700.0, 1200.0, 1500.0, 1400.0, 1850.0, 850.0, 1600.0, 1300.0, 1400.0, 1900.0, 1600.0, 1600.0, 1400.0, 1400.0, 1300.0, 1200.0, 1800.0, 1100.0, 1300.0, 1700.0, 1700.0, 1500.0, 1350.0, 1500.0, 1800.0, 500.0, 800.0, 1600.0, 1950.0, 1100.0, 1400.0, 1500.0, 1300.0, 1100.0, 1600.0, 1300.0, 800.0, 1500.0, 1200.0, 1200.0, 1850.0, 1500.0, 1500.0, 1900.0, 0.0, 1600.0, 1900.0, 2000.0, 1500.0, 1800.0, 1200.0, 1800.0, 1700.0, 1900.0, 1200.0, 1200.0, 1500.0, 1800.0, 1250.0, 1600.0, 1200.0, 1500.0, 1000.0, 1650.0, 2000.0, 1300.0, 1450.0, 1450.0, 1650.0, 1200.0, 800.0, 1500.0, 1600.0, 1900.0, 950.0, 1100.0, 1200.0, 1700.0, 1400.0, 1050.0, 1200.0, 1500.0, 1500.0, 1250.0, 1800.0, 2000.0, 1200.0, 1400.0, 1900.0, 1900.0, 1300.0, 1500.0, 1600.0, 1100.0, 1200.0, 1750.0, 1850.0, 2000.0, 2000.0, 1500.0, 500.0, 1500.0, 1100.0, 2000.0, 1500.0, 1300.0, 800.0, 1800.0, 1700.0, 1800.0, 1800.0, 1200.0, 1400.0, 1800.0, 1600.0, 1500.0, 2000.0, 500.0, 800.0, 1500.0, 1400.0, 100.0, 1200.0, 1600.0, 1600.0, 1600.0, 1900.0, 1100.0, 1800.0, 1300.0, 1600.0, 1300.0, 2000.0, 1350.0, 1600.0, 1550.0, 1800.0, 700.0, 1000.0, 1450.0, 0.0, 1200.0, 1700.0, 1400.0, 800.0, 1500.0, 1450.0, 900.0, 1200.0, 1200.0, 1300.0, 1300.0, 1500.0, 1200.0, 1500.0, 1100.0, 1200.0, 1300.0, 1350.0, 800.0, 1300.0, 1200.0, 1000.0, 1600.0, 1200.0, 1500.0, 1600.0, 100.0, 1550.0, 1900.0, 1700.0, 1600.0, 1400.0, 1400.0, 1650.0, 1000.0, 1400.0, 1200.0, 1400.0, 1650.0, 1400.0, 1250.0, 1800.0, 1800.0, 1000.0, 1300.0, 2000.0, 1800.0], \"yaxis\": \"y\"}, {\"hovertemplate\": \"<b>OLS trendline</b><br>atk = 33.8694 * release_date + 1431.11<br>R<sup>2</sup>=0.009686<br><br>release_date=%{x}<br>atk=%{y} <b>(trend)</b><extra></extra>\", \"legendgroup\": \"\", \"marker\": {\"color\": \"#636efa\", \"symbol\": \"circle\"}, \"mode\": \"lines\", \"name\": \"\", \"showlegend\": false, \"type\": \"scatter\", \"x\": [\"2002-03-08T00:00:00\", \"2002-03-08T00:00:00\", \"2002-03-08T00:00:00\", \"2002-03-08T00:00:00\", \"2002-03-08T00:00:00\", \"2002-03-08T00:00:00\", \"2002-03-08T00:00:00\", \"2002-03-08T00:00:00\", \"2002-03-08T00:00:00\", \"2002-03-08T00:00:00\", \"2002-03-08T00:00:00\", \"2002-03-08T00:00:00\", \"2002-03-08T00:00:00\", \"2002-03-08T00:00:00\", \"2002-03-08T00:00:00\", \"2002-03-08T00:00:00\", \"2002-03-08T00:00:00\", \"2002-03-08T00:00:00\", \"2002-03-08T00:00:00\", \"2002-03-08T00:00:00\", \"2002-03-29T00:00:00\", \"2002-03-29T00:00:00\", \"2002-03-29T00:00:00\", \"2002-03-29T00:00:00\", \"2002-03-29T00:00:00\", \"2002-03-29T00:00:00\", \"2002-03-29T00:00:00\", \"2002-03-29T00:00:00\", \"2002-03-29T00:00:00\", \"2002-03-29T00:00:00\", \"2002-03-29T00:00:00\", \"2002-03-29T00:00:00\", \"2002-03-29T00:00:00\", \"2002-03-29T00:00:00\", \"2002-03-29T00:00:00\", \"2002-03-29T00:00:00\", \"2002-03-29T00:00:00\", \"2002-03-29T00:00:00\", \"2002-03-29T00:00:00\", \"2002-03-29T00:00:00\", \"2002-03-29T00:00:00\", \"2002-03-29T00:00:00\", \"2002-03-29T00:00:00\", \"2002-03-29T00:00:00\", \"2002-06-26T00:00:00\", \"2002-06-26T00:00:00\", \"2002-06-26T00:00:00\", \"2002-06-26T00:00:00\", \"2002-06-26T00:00:00\", \"2002-06-26T00:00:00\", \"2002-06-26T00:00:00\", \"2002-06-26T00:00:00\", \"2002-06-26T00:00:00\", \"2002-06-26T00:00:00\", \"2002-06-26T00:00:00\", \"2002-06-26T00:00:00\", \"2002-06-26T00:00:00\", \"2002-06-26T00:00:00\", \"2002-06-26T00:00:00\", \"2002-06-26T00:00:00\", \"2002-06-26T00:00:00\", \"2002-06-26T00:00:00\", \"2002-06-26T00:00:00\", \"2002-09-01T00:00:00\", \"2002-09-01T00:00:00\", \"2002-09-01T00:00:00\", \"2002-09-01T00:00:00\", \"2002-09-01T00:00:00\", \"2002-09-01T00:00:00\", \"2002-09-01T00:00:00\", \"2002-09-01T00:00:00\", \"2002-09-01T00:00:00\", \"2002-09-01T00:00:00\", \"2002-09-01T00:00:00\", \"2002-09-16T00:00:00\", \"2002-09-16T00:00:00\", \"2002-09-16T00:00:00\", \"2002-09-16T00:00:00\", \"2002-09-16T00:00:00\", \"2002-10-01T00:00:00\", \"2002-10-01T00:00:00\", \"2002-10-01T00:00:00\", \"2002-10-01T00:00:00\", \"2002-10-01T00:00:00\", \"2002-10-01T00:00:00\", \"2002-10-01T00:00:00\", \"2002-10-01T00:00:00\", \"2002-10-01T00:00:00\", \"2002-10-20T00:00:00\", \"2002-10-20T00:00:00\", \"2002-10-20T00:00:00\", \"2002-10-20T00:00:00\", \"2002-10-20T00:00:00\", \"2002-10-20T00:00:00\", \"2002-10-20T00:00:00\", \"2002-10-20T00:00:00\", \"2002-10-20T00:00:00\", \"2002-10-20T00:00:00\", \"2002-10-20T00:00:00\", \"2002-10-20T00:00:00\", \"2002-12-20T00:00:00\", \"2002-12-20T00:00:00\", \"2002-12-20T00:00:00\", \"2002-12-20T00:00:00\", \"2003-02-16T00:00:00\", \"2003-02-16T00:00:00\", \"2003-02-16T00:00:00\", \"2003-03-01T00:00:00\", \"2003-03-01T00:00:00\", \"2003-03-01T00:00:00\", \"2003-03-01T00:00:00\", \"2003-03-01T00:00:00\", \"2003-03-01T00:00:00\", \"2003-03-01T00:00:00\", \"2003-03-01T00:00:00\", \"2003-03-01T00:00:00\", \"2003-03-01T00:00:00\", \"2003-03-01T00:00:00\", \"2003-03-30T00:00:00\", \"2003-06-06T00:00:00\", \"2003-06-06T00:00:00\", \"2003-06-06T00:00:00\", \"2003-06-06T00:00:00\", \"2003-06-06T00:00:00\", \"2003-06-06T00:00:00\", \"2003-07-18T00:00:00\", \"2003-07-18T00:00:00\", \"2003-07-18T00:00:00\", \"2003-07-18T00:00:00\", \"2003-10-10T00:00:00\", \"2003-10-10T00:00:00\", \"2003-10-10T00:00:00\", \"2003-10-10T00:00:00\", \"2003-12-01T00:00:00\", \"2003-12-01T00:00:00\", \"2003-12-01T00:00:00\", \"2003-12-01T00:00:00\", \"2004-03-01T00:00:00\", \"2004-03-01T00:00:00\", \"2004-03-01T00:00:00\", \"2004-03-01T00:00:00\", \"2004-03-01T00:00:00\", \"2004-06-01T00:00:00\", \"2004-10-01T00:00:00\", \"2004-10-01T00:00:00\", \"2004-11-20T00:00:00\", \"2005-03-01T00:00:00\", \"2005-03-01T00:00:00\", \"2005-03-01T00:00:00\", \"2005-06-01T00:00:00\", \"2005-06-01T00:00:00\", \"2005-06-01T00:00:00\", \"2005-09-01T00:00:00\", \"2005-11-16T00:00:00\", \"2005-11-16T00:00:00\", \"2005-11-16T00:00:00\", \"2005-11-16T00:00:00\", \"2006-04-28T00:00:00\", \"2006-04-28T00:00:00\", \"2006-04-28T00:00:00\", \"2006-04-28T00:00:00\", \"2006-04-28T00:00:00\", \"2006-08-16T00:00:00\", \"2006-12-26T00:00:00\", \"2006-12-26T00:00:00\", \"2007-02-28T00:00:00\", \"2007-05-15T00:00:00\", \"2007-08-15T00:00:00\", \"2007-08-15T00:00:00\", \"2007-08-15T00:00:00\", \"2007-11-14T00:00:00\", \"2008-01-08T00:00:00\", \"2008-02-13T00:00:00\", \"2008-05-12T00:00:00\", \"2009-06-09T00:00:00\", \"2009-11-17T00:00:00\", \"2010-01-29T00:00:00\", \"2010-08-14T00:00:00\", \"2010-08-14T00:00:00\", \"2010-08-14T00:00:00\", \"2010-08-14T00:00:00\", \"2011-05-29T00:00:00\", \"2011-05-29T00:00:00\", \"2011-05-29T00:00:00\", \"2011-11-05T00:00:00\", \"2012-04-28T00:00:00\", \"2012-09-28T00:00:00\", \"2012-09-29T00:00:00\", \"2013-10-11T00:00:00\", \"2014-12-05T00:00:00\", \"2015-05-14T00:00:00\", \"2015-06-04T00:00:00\", \"2015-08-06T00:00:00\", \"2015-10-23T00:00:00\", \"2015-11-12T00:00:00\", \"2017-04-13T00:00:00\", \"2017-08-03T00:00:00\", \"2017-08-03T00:00:00\", \"2018-02-01T00:00:00\", \"2018-03-22T00:00:00\", \"2018-07-12T00:00:00\", \"2019-08-01T00:00:00\", \"2019-12-06T00:00:00\", \"2020-01-31T00:00:00\", \"2020-05-15T00:00:00\", \"2020-05-15T00:00:00\", \"2020-05-15T00:00:00\", \"2021-08-12T00:00:00\", \"2021-08-12T00:00:00\"], \"xaxis\": \"x\", \"y\": [1388.6167903246896, 1388.6167903246896, 1388.6167903246896, 1388.6167903246896, 1388.6167903246896, 1388.6167903246896, 1388.6167903246896, 1388.6167903246896, 1388.6167903246896, 1388.6167903246896, 1388.6167903246896, 1388.6167903246896, 1388.6167903246896, 1388.6167903246896, 1388.6167903246896, 1388.6167903246896, 1388.6167903246896, 1388.6167903246896, 1388.6167903246896, 1388.6167903246896, 1376.9568786891919, 1376.9568786891919, 1376.9568786891919, 1376.9568786891919, 1376.9568786891919, 1376.9568786891919, 1376.9568786891919, 1376.9568786891919, 1376.9568786891919, 1376.9568786891919, 1376.9568786891919, 1376.9568786891919, 1376.9568786891919, 1376.9568786891919, 1376.9568786891919, 1376.9568786891919, 1376.9568786891919, 1376.9568786891919, 1376.9568786891919, 1376.9568786891919, 1376.9568786891919, 1376.9568786891919, 1376.9568786891919, 1376.9568786891919, 1452.2280120361104, 1452.2280120361104, 1452.2280120361104, 1452.2280120361104, 1452.2280120361104, 1452.2280120361104, 1452.2280120361104, 1452.2280120361104, 1452.2280120361104, 1452.2280120361104, 1452.2280120361104, 1452.2280120361104, 1452.2280120361104, 1452.2280120361104, 1452.2280120361104, 1452.2280120361104, 1452.2280120361104, 1452.2280120361104, 1452.2280120361104, 1456.589658021976, 1456.589658021976, 1456.589658021976, 1456.589658021976, 1456.589658021976, 1456.589658021976, 1456.589658021976, 1456.589658021976, 1456.589658021976, 1456.589658021976, 1456.589658021976, 1385.91767504794, 1385.91767504794, 1385.91767504794, 1385.91767504794, 1385.91767504794, 1460.7137996208253, 1460.7137996208253, 1460.7137996208253, 1460.7137996208253, 1460.7137996208253, 1460.7137996208253, 1460.7137996208253, 1460.7137996208253, 1460.7137996208253, 1429.3831975391481, 1429.3831975391481, 1429.3831975391481, 1429.3831975391481, 1429.3831975391481, 1429.3831975391481, 1429.3831975391481, 1429.3831975391481, 1429.3831975391481, 1429.3831975391481, 1429.3831975391481, 1429.3831975391481, 1374.7327721864756, 1374.7327721864756, 1374.7327721864756, 1374.7327721864756, 1363.3103649379946, 1363.3103649379946, 1363.3103649379946, 1418.4357990647002, 1418.4357990647002, 1418.4357990647002, 1418.4357990647002, 1418.4357990647002, 1418.4357990647002, 1418.4357990647002, 1418.4357990647002, 1418.4357990647002, 1418.4357990647002, 1418.4357990647002, 1485.4586492139204, 1426.9215866494153, 1426.9215866494153, 1426.9215866494153, 1426.9215866494153, 1426.9215866494153, 1426.9215866494153, 1403.60176337842, 1403.60176337842, 1403.60176337842, 1403.60176337842, 1502.4302243833502, 1502.4302243833502, 1502.4302243833502, 1502.4302243833502, 1431.9957457963308, 1431.9957457963308, 1431.9957457963308, 1431.9957457963308, 1381.4694620425075, 1381.4694620425075, 1381.4694620425075, 1381.4694620425075, 1381.4694620425075, 1413.5125772852346, 1449.6798341268106, 1449.6798341268106, 1359.5746650936119, 1407.4018335706855, 1407.4018335706855, 1407.4018335706855, 1439.4449488134126, 1439.4449488134126, 1439.4449488134126, 1471.4880640561396, 1491.633763276352, 1491.633763276352, 1491.633763276352, 1491.633763276352, 1421.9117978503825, 1421.9117978503825, 1421.9117978503825, 1421.9117978503825, 1421.9117978503825, 1485.5230195618033, 1474.5756210873553, 1474.5756210873553, 1376.6971776304915, 1396.8428768507042, 1428.885992093431, 1428.885992093431, 1428.885992093431, 1378.3597083396078, 1410.1653191953183, 1473.3015321327057, 1403.1045579327028, 1413.4903806135508, 1469.5658322883228, 1387.4714420658058, 1361.2149991310444, 1361.2149991310444, 1361.2149991310444, 1361.2149991310444, 1429.9003799893806, 1429.9003799893806, 1429.9003799893806, 1403.4064326676025, 1451.7086099187095, 1429.101299808764, 1366.202591258393, 1364.6909979167267, 1422.428980300615, 1395.935032978837, 1384.2751213433394, 1494.7634939837674, 1389.1117761032383, 1440.3505730181114, 1443.675634436344, 1381.4894390470229, 1381.4894390470229, 1425.9049790862973, 1398.6985186034694, 1481.9804307610696, 1413.6834916571997, 1426.293420840764, 1395.2003231461033, 1482.368872515536, 1482.368872515536, 1482.368872515536, 1438.1042698437113, 1438.1042698437113], \"yaxis\": \"y\"}],                        {\"legend\": {\"tracegroupgap\": 0}, \"template\": {\"data\": {\"bar\": [{\"error_x\": {\"color\": \"#2a3f5f\"}, \"error_y\": {\"color\": \"#2a3f5f\"}, \"marker\": {\"line\": {\"color\": \"#E5ECF6\", \"width\": 0.5}}, \"type\": \"bar\"}], \"barpolar\": [{\"marker\": {\"line\": {\"color\": \"#E5ECF6\", \"width\": 0.5}}, \"type\": \"barpolar\"}], \"carpet\": [{\"aaxis\": {\"endlinecolor\": \"#2a3f5f\", \"gridcolor\": \"white\", \"linecolor\": \"white\", \"minorgridcolor\": \"white\", \"startlinecolor\": \"#2a3f5f\"}, \"baxis\": {\"endlinecolor\": \"#2a3f5f\", \"gridcolor\": \"white\", \"linecolor\": \"white\", \"minorgridcolor\": \"white\", \"startlinecolor\": \"#2a3f5f\"}, \"type\": \"carpet\"}], \"choropleth\": [{\"colorbar\": {\"outlinewidth\": 0, \"ticks\": \"\"}, \"type\": \"choropleth\"}], \"contour\": [{\"colorbar\": {\"outlinewidth\": 0, \"ticks\": \"\"}, \"colorscale\": [[0.0, \"#0d0887\"], [0.1111111111111111, \"#46039f\"], [0.2222222222222222, \"#7201a8\"], [0.3333333333333333, \"#9c179e\"], [0.4444444444444444, \"#bd3786\"], [0.5555555555555556, \"#d8576b\"], [0.6666666666666666, \"#ed7953\"], [0.7777777777777778, \"#fb9f3a\"], [0.8888888888888888, \"#fdca26\"], [1.0, \"#f0f921\"]], \"type\": \"contour\"}], \"contourcarpet\": [{\"colorbar\": {\"outlinewidth\": 0, \"ticks\": \"\"}, \"type\": \"contourcarpet\"}], \"heatmap\": [{\"colorbar\": {\"outlinewidth\": 0, \"ticks\": \"\"}, \"colorscale\": [[0.0, \"#0d0887\"], [0.1111111111111111, \"#46039f\"], [0.2222222222222222, \"#7201a8\"], [0.3333333333333333, \"#9c179e\"], [0.4444444444444444, \"#bd3786\"], [0.5555555555555556, \"#d8576b\"], [0.6666666666666666, \"#ed7953\"], [0.7777777777777778, \"#fb9f3a\"], [0.8888888888888888, \"#fdca26\"], [1.0, \"#f0f921\"]], \"type\": \"heatmap\"}], \"heatmapgl\": [{\"colorbar\": {\"outlinewidth\": 0, \"ticks\": \"\"}, \"colorscale\": [[0.0, \"#0d0887\"], [0.1111111111111111, \"#46039f\"], [0.2222222222222222, \"#7201a8\"], [0.3333333333333333, \"#9c179e\"], [0.4444444444444444, \"#bd3786\"], [0.5555555555555556, \"#d8576b\"], [0.6666666666666666, \"#ed7953\"], [0.7777777777777778, \"#fb9f3a\"], [0.8888888888888888, \"#fdca26\"], [1.0, \"#f0f921\"]], \"type\": \"heatmapgl\"}], \"histogram\": [{\"marker\": {\"colorbar\": {\"outlinewidth\": 0, \"ticks\": \"\"}}, \"type\": \"histogram\"}], \"histogram2d\": [{\"colorbar\": {\"outlinewidth\": 0, \"ticks\": \"\"}, \"colorscale\": [[0.0, \"#0d0887\"], [0.1111111111111111, \"#46039f\"], [0.2222222222222222, \"#7201a8\"], [0.3333333333333333, \"#9c179e\"], [0.4444444444444444, \"#bd3786\"], [0.5555555555555556, \"#d8576b\"], [0.6666666666666666, \"#ed7953\"], [0.7777777777777778, \"#fb9f3a\"], [0.8888888888888888, \"#fdca26\"], [1.0, \"#f0f921\"]], \"type\": \"histogram2d\"}], \"histogram2dcontour\": [{\"colorbar\": {\"outlinewidth\": 0, \"ticks\": \"\"}, \"colorscale\": [[0.0, \"#0d0887\"], [0.1111111111111111, \"#46039f\"], [0.2222222222222222, \"#7201a8\"], [0.3333333333333333, \"#9c179e\"], [0.4444444444444444, \"#bd3786\"], [0.5555555555555556, \"#d8576b\"], [0.6666666666666666, \"#ed7953\"], [0.7777777777777778, \"#fb9f3a\"], [0.8888888888888888, \"#fdca26\"], [1.0, \"#f0f921\"]], \"type\": \"histogram2dcontour\"}], \"mesh3d\": [{\"colorbar\": {\"outlinewidth\": 0, \"ticks\": \"\"}, \"type\": \"mesh3d\"}], \"parcoords\": [{\"line\": {\"colorbar\": {\"outlinewidth\": 0, \"ticks\": \"\"}}, \"type\": \"parcoords\"}], \"pie\": [{\"automargin\": true, \"type\": \"pie\"}], \"scatter\": [{\"marker\": {\"colorbar\": {\"outlinewidth\": 0, \"ticks\": \"\"}}, \"type\": \"scatter\"}], \"scatter3d\": [{\"line\": {\"colorbar\": {\"outlinewidth\": 0, \"ticks\": \"\"}}, \"marker\": {\"colorbar\": {\"outlinewidth\": 0, \"ticks\": \"\"}}, \"type\": \"scatter3d\"}], \"scattercarpet\": [{\"marker\": {\"colorbar\": {\"outlinewidth\": 0, \"ticks\": \"\"}}, \"type\": \"scattercarpet\"}], \"scattergeo\": [{\"marker\": {\"colorbar\": {\"outlinewidth\": 0, \"ticks\": \"\"}}, \"type\": \"scattergeo\"}], \"scattergl\": [{\"marker\": {\"colorbar\": {\"outlinewidth\": 0, \"ticks\": \"\"}}, \"type\": \"scattergl\"}], \"scattermapbox\": [{\"marker\": {\"colorbar\": {\"outlinewidth\": 0, \"ticks\": \"\"}}, \"type\": \"scattermapbox\"}], \"scatterpolar\": [{\"marker\": {\"colorbar\": {\"outlinewidth\": 0, \"ticks\": \"\"}}, \"type\": \"scatterpolar\"}], \"scatterpolargl\": [{\"marker\": {\"colorbar\": {\"outlinewidth\": 0, \"ticks\": \"\"}}, \"type\": \"scatterpolargl\"}], \"scatterternary\": [{\"marker\": {\"colorbar\": {\"outlinewidth\": 0, \"ticks\": \"\"}}, \"type\": \"scatterternary\"}], \"surface\": [{\"colorbar\": {\"outlinewidth\": 0, \"ticks\": \"\"}, \"colorscale\": [[0.0, \"#0d0887\"], [0.1111111111111111, \"#46039f\"], [0.2222222222222222, \"#7201a8\"], [0.3333333333333333, \"#9c179e\"], [0.4444444444444444, \"#bd3786\"], [0.5555555555555556, \"#d8576b\"], [0.6666666666666666, \"#ed7953\"], [0.7777777777777778, \"#fb9f3a\"], [0.8888888888888888, \"#fdca26\"], [1.0, \"#f0f921\"]], \"type\": \"surface\"}], \"table\": [{\"cells\": {\"fill\": {\"color\": \"#EBF0F8\"}, \"line\": {\"color\": \"white\"}}, \"header\": {\"fill\": {\"color\": \"#C8D4E3\"}, \"line\": {\"color\": \"white\"}}, \"type\": \"table\"}]}, \"layout\": {\"annotationdefaults\": {\"arrowcolor\": \"#2a3f5f\", \"arrowhead\": 0, \"arrowwidth\": 1}, \"autotypenumbers\": \"strict\", \"coloraxis\": {\"colorbar\": {\"outlinewidth\": 0, \"ticks\": \"\"}}, \"colorscale\": {\"diverging\": [[0, \"#8e0152\"], [0.1, \"#c51b7d\"], [0.2, \"#de77ae\"], [0.3, \"#f1b6da\"], [0.4, \"#fde0ef\"], [0.5, \"#f7f7f7\"], [0.6, \"#e6f5d0\"], [0.7, \"#b8e186\"], [0.8, \"#7fbc41\"], [0.9, \"#4d9221\"], [1, \"#276419\"]], \"sequential\": [[0.0, \"#0d0887\"], [0.1111111111111111, \"#46039f\"], [0.2222222222222222, \"#7201a8\"], [0.3333333333333333, \"#9c179e\"], [0.4444444444444444, \"#bd3786\"], [0.5555555555555556, \"#d8576b\"], [0.6666666666666666, \"#ed7953\"], [0.7777777777777778, \"#fb9f3a\"], [0.8888888888888888, \"#fdca26\"], [1.0, \"#f0f921\"]], \"sequentialminus\": [[0.0, \"#0d0887\"], [0.1111111111111111, \"#46039f\"], [0.2222222222222222, \"#7201a8\"], [0.3333333333333333, \"#9c179e\"], [0.4444444444444444, \"#bd3786\"], [0.5555555555555556, \"#d8576b\"], [0.6666666666666666, \"#ed7953\"], [0.7777777777777778, \"#fb9f3a\"], [0.8888888888888888, \"#fdca26\"], [1.0, \"#f0f921\"]]}, \"colorway\": [\"#636efa\", \"#EF553B\", \"#00cc96\", \"#ab63fa\", \"#FFA15A\", \"#19d3f3\", \"#FF6692\", \"#B6E880\", \"#FF97FF\", \"#FECB52\"], \"font\": {\"color\": \"#2a3f5f\"}, \"geo\": {\"bgcolor\": \"white\", \"lakecolor\": \"white\", \"landcolor\": \"#E5ECF6\", \"showlakes\": true, \"showland\": true, \"subunitcolor\": \"white\"}, \"hoverlabel\": {\"align\": \"left\"}, \"hovermode\": \"closest\", \"mapbox\": {\"style\": \"light\"}, \"paper_bgcolor\": \"white\", \"plot_bgcolor\": \"#E5ECF6\", \"polar\": {\"angularaxis\": {\"gridcolor\": \"white\", \"linecolor\": \"white\", \"ticks\": \"\"}, \"bgcolor\": \"#E5ECF6\", \"radialaxis\": {\"gridcolor\": \"white\", \"linecolor\": \"white\", \"ticks\": \"\"}}, \"scene\": {\"xaxis\": {\"backgroundcolor\": \"#E5ECF6\", \"gridcolor\": \"white\", \"gridwidth\": 2, \"linecolor\": \"white\", \"showbackground\": true, \"ticks\": \"\", \"zerolinecolor\": \"white\"}, \"yaxis\": {\"backgroundcolor\": \"#E5ECF6\", \"gridcolor\": \"white\", \"gridwidth\": 2, \"linecolor\": \"white\", \"showbackground\": true, \"ticks\": \"\", \"zerolinecolor\": \"white\"}, \"zaxis\": {\"backgroundcolor\": \"#E5ECF6\", \"gridcolor\": \"white\", \"gridwidth\": 2, \"linecolor\": \"white\", \"showbackground\": true, \"ticks\": \"\", \"zerolinecolor\": \"white\"}}, \"shapedefaults\": {\"line\": {\"color\": \"#2a3f5f\"}}, \"ternary\": {\"aaxis\": {\"gridcolor\": \"white\", \"linecolor\": \"white\", \"ticks\": \"\"}, \"baxis\": {\"gridcolor\": \"white\", \"linecolor\": \"white\", \"ticks\": \"\"}, \"bgcolor\": \"#E5ECF6\", \"caxis\": {\"gridcolor\": \"white\", \"linecolor\": \"white\", \"ticks\": \"\"}}, \"title\": {\"x\": 0.05}, \"xaxis\": {\"automargin\": true, \"gridcolor\": \"white\", \"linecolor\": \"white\", \"ticks\": \"\", \"title\": {\"standoff\": 15}, \"zerolinecolor\": \"white\", \"zerolinewidth\": 2}, \"yaxis\": {\"automargin\": true, \"gridcolor\": \"white\", \"linecolor\": \"white\", \"ticks\": \"\", \"title\": {\"standoff\": 15}, \"zerolinecolor\": \"white\", \"zerolinewidth\": 2}}}, \"title\": {\"text\": \"release_date v. atk\"}, \"xaxis\": {\"anchor\": \"y\", \"domain\": [0.0, 1.0], \"title\": {\"text\": \"release_date\"}}, \"yaxis\": {\"anchor\": \"x\", \"domain\": [0.0, 1.0], \"title\": {\"text\": \"atk\"}}},                        {\"responsive\": true}                    ).then(function(){\n",
       "                            \n",
       "var gd = document.getElementById('781d02be-62c9-436c-8522-a2d940b04c9d');\n",
       "var x = new MutationObserver(function (mutations, observer) {{\n",
       "        var display = window.getComputedStyle(gd).display;\n",
       "        if (!display || display === 'none') {{\n",
       "            console.log([gd, 'removed!']);\n",
       "            Plotly.purge(gd);\n",
       "            observer.disconnect();\n",
       "        }}\n",
       "}});\n",
       "\n",
       "// Listen for the removal of the full notebook cells\n",
       "var notebookContainer = gd.closest('#notebook-container');\n",
       "if (notebookContainer) {{\n",
       "    x.observe(notebookContainer, {childList: true});\n",
       "}}\n",
       "\n",
       "// Listen for the clearing of the current output cell\n",
       "var outputEl = gd.closest('.output');\n",
       "if (outputEl) {{\n",
       "    x.observe(outputEl, {childList: true});\n",
       "}}\n",
       "\n",
       "                        })                };                });            </script>        </div>"
      ]
     },
     "metadata": {},
     "output_type": "display_data"
    }
   ],
   "source": [
    "df1 = df_tcg_cards.loc[(df_tcg_cards['level']== 4) & (df_tcg_cards['type']=='Normal Monster')]\n",
    "\n",
    "print(df1.shape)\n",
    "\n",
    "ScatterChart(df1,'release_date', 'atk')"
   ]
  },
  {
   "cell_type": "code",
   "execution_count": null,
   "metadata": {},
   "outputs": [],
   "source": []
  },
  {
   "cell_type": "code",
   "execution_count": null,
   "metadata": {},
   "outputs": [],
   "source": []
  }
 ],
 "metadata": {
  "kernelspec": {
   "display_name": "Python 3",
   "language": "python",
   "name": "python3"
  },
  "language_info": {
   "codemirror_mode": {
    "name": "ipython",
    "version": 3
   },
   "file_extension": ".py",
   "mimetype": "text/x-python",
   "name": "python",
   "nbconvert_exporter": "python",
   "pygments_lexer": "ipython3",
   "version": "3.8.5"
  }
 },
 "nbformat": 4,
 "nbformat_minor": 4
}
